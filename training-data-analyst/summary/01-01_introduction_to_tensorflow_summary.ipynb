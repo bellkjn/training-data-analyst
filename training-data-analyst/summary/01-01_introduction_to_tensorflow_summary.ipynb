{
 "cells": [
  {
   "cell_type": "markdown",
   "id": "a78d01f2",
   "metadata": {},
   "source": [
    "# training-data-analyst/courses/machine_learning/deepdive2/introduction_to_tensorflow"
   ]
  },
  {
   "cell_type": "markdown",
   "id": "bc0e9da3",
   "metadata": {},
   "source": [
    "### Loss function and gradients"
   ]
  },
  {
   "cell_type": "markdown",
   "id": "c9491d17",
   "metadata": {},
   "source": [
    "**tf.GradientTape** 참고: [Gradient Tape을 이용한 자동 미분과 오차역전파](https://rfriend.tistory.com/m/556?category=711317)"
   ]
  },
  {
   "cell_type": "code",
   "execution_count": 1,
   "id": "cf0d5d40",
   "metadata": {},
   "outputs": [],
   "source": [
    "def loss_mse(X, Y, w0, w1):\n",
    "    Y_hat = w0 * X + w1\n",
    "    errors = (Y_hat - Y)**2\n",
    "    return tf.reduce_mean(errors)\n",
    "\n",
    "def compute_gradients(X, Y, w0, w1):\n",
    "    with tf.GradientTape() as tape:  # forward\n",
    "        loss = loss_mse(X, Y, w0, w1)\n",
    "    return tape.gradient(loss, [w0, w1])  # backward"
   ]
  },
  {
   "cell_type": "code",
   "execution_count": null,
   "id": "4d0d97fe",
   "metadata": {},
   "outputs": [],
   "source": [
    "def create_dataset(X, Y, epochs, batch_size):\n",
    "    dataset = tf.data.Dataset.from_tensor_slices((X, Y))\n",
    "    dataset = dataset.repeat(epochs).batch(batch_size, drop_remainder=True)\n",
    "    return dataset"
   ]
  },
  {
   "cell_type": "code",
   "execution_count": null,
   "id": "c6258f4e",
   "metadata": {},
   "outputs": [],
   "source": [
    "def create_dataset(pattern, batch_size=1, mode='eval'):\n",
    "    dataset = tf.data.experimental.make_csv_dataset(\n",
    "        pattern, batch_size, CSV_COLUMNS, DEFAULTS)\n",
    "\n",
    "    dataset = dataset.map(features_and_labels).cache()\n",
    "\n",
    "    if mode == 'train':\n",
    "        dataset = dataset.shuffle(1000).repeat(3)\n",
    "\n",
    "    # take advantage of multi-threading; 1=AUTOTUNE\n",
    "    dataset = dataset.prefetch(buffer_size=1)\n",
    "    \n",
    "    return dataset"
   ]
  },
  {
   "cell_type": "code",
   "execution_count": 114,
   "id": "7a38b761",
   "metadata": {},
   "outputs": [],
   "source": [
    "# Build a keras DNN model using Sequential API\n",
    "# TODO 2a\n",
    "model = tf.keras.Sequential([\n",
    "    DenseFeatures(feature_columns=feature_columns),\n",
    "    Dense(units=32, activation=\"relu\", name=\"h1\"),\n",
    "    Dense(units=8, activation=\"relu\", name=\"h2\"),\n",
    "    Dense(units=1, activation=\"linear\", name=\"output\")\n",
    "\n",
    "])"
   ]
  },
  {
   "cell_type": "code",
   "execution_count": 115,
   "id": "58316056",
   "metadata": {},
   "outputs": [],
   "source": [
    "# TODO 2b\n",
    "# Create a custom evalution metric\n",
    "def rmse(y_true, y_pred):\n",
    "    return tf.sqrt(tf.reduce_mean((y_true-y_pred)**2))\n",
    "\n",
    "\n",
    "# Compile the keras model\n",
    "# TODO -- Your code here.\n",
    "model.compile(optimizer='rmsprop', loss='mse', metrics=['mse', rmse])"
   ]
  },
  {
   "cell_type": "code",
   "execution_count": 126,
   "id": "77bc1f7b",
   "metadata": {},
   "outputs": [
    {
     "name": "stdout",
     "output_type": "stream",
     "text": [
      "Bucket exists, let's not recreate it.\n",
      "taxifare already exists\n",
      "Deleting already existing taxifare:dnn1 ... \n",
      "Please run this cell again if you don't see a Creating message ... \n",
      "Creating taxifare:dnn1\n"
     ]
    },
    {
     "name": "stderr",
     "output_type": "stream",
     "text": [
      "Using endpoint [https://us-east1-ml.googleapis.com/]\n",
      "Using endpoint [https://us-east1-ml.googleapis.com/]\n",
      "Using endpoint [https://us-east1-ml.googleapis.com/]\n",
      "This will delete version [dnn1]...\n",
      "\n",
      "Do you want to continue (Y/n)?  \n",
      "Deleting version [dnn1]......\n",
      "..................................................................................done.\n",
      "Using endpoint [https://us-east1-ml.googleapis.com/]\n",
      "Creating version (this might take a few minutes)......\n",
      "....................................................................................................................................................................................................................................................................................................................................................................................................................................................................................................................................................done.\n"
     ]
    }
   ],
   "source": [
    "%%bash\n",
    "\n",
    "# TODO 5a\n",
    "\n",
    "PROJECT=\"qwiklabs-gcp-00-0db9b1bc58c6\"\n",
    "BUCKET=${PROJECT}\n",
    "REGION=us-east1\n",
    "MODEL_NAME=taxifare\n",
    "VERSION_NAME=dnn1\n",
    "\n",
    "## Create GCS bucket if it doesn't exist already...\n",
    "exists=$(gsutil ls -d | grep -w gs://${BUCKET}/)\n",
    "\n",
    "if [ -n \"$exists\" ]; then\n",
    "    echo -e \"Bucket exists, let's not recreate it.\"\n",
    "else\n",
    "    echo \"Creating a new GCS bucket.\"\n",
    "    gsutil mb -l ${REGION} gs://${BUCKET}\n",
    "    echo \"Here are your current buckets:\"\n",
    "    gsutil ls\n",
    "fi\n",
    "\n",
    "if [[ $(gcloud ai-platform models list --format='value(name)' --region=$REGION | grep $MODEL_NAME) ]]; then\n",
    "    echo \"$MODEL_NAME already exists\"\n",
    "else\n",
    "    echo \"Creating $MODEL_NAME\"\n",
    "    gcloud ai-platform models create --region=$REGION $MODEL_NAME\n",
    "fi\n",
    "\n",
    "if [[ $(gcloud ai-platform versions list --model $MODEL_NAME --region=$REGION --format='value(name)' | grep $VERSION_NAME) ]]; then\n",
    "    echo \"Deleting already existing $MODEL_NAME:$VERSION_NAME ... \"\n",
    "    echo yes | gcloud ai-platform versions delete --model=$MODEL_NAME $VERSION_NAME --region=$REGION\n",
    "    echo \"Please run this cell again if you don't see a Creating message ... \"\n",
    "    sleep 2\n",
    "fi\n",
    "\n",
    "echo \"Creating $MODEL_NAME:$VERSION_NAME\"\n",
    "gcloud ai-platform versions create \\\n",
    "    --model=taxifare $VERSION_NAME \\\n",
    "    --framework=tensorflow \\\n",
    "    --python-version=3.7 \\\n",
    "    --runtime-version=2.1 \\\n",
    "    --origin=$EXPORT_PATH \\\n",
    "    --staging-bucket=gs://$BUCKET \\\n",
    "    --region=$REGION"
   ]
  }
 ],
 "metadata": {
  "environment": {
   "name": "tf2-gpu.2-1.m69",
   "type": "gcloud",
   "uri": "gcr.io/deeplearning-platform-release/tf2-gpu.2-1:m69"
  },
  "kernelspec": {
   "display_name": "Python 3",
   "language": "python",
   "name": "python3"
  },
  "language_info": {
   "codemirror_mode": {
    "name": "ipython",
    "version": 3
   },
   "file_extension": ".py",
   "mimetype": "text/x-python",
   "name": "python",
   "nbconvert_exporter": "python",
   "pygments_lexer": "ipython3",
   "version": "3.7.10"
  }
 },
 "nbformat": 4,
 "nbformat_minor": 5
}
