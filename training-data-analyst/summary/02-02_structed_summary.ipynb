{
 "cells": [
  {
   "cell_type": "markdown",
   "id": "a941d69e",
   "metadata": {},
   "source": [
    "### Get googld cloud project id "
   ]
  },
  {
   "cell_type": "code",
   "execution_count": null,
   "id": "b3d474be",
   "metadata": {},
   "outputs": [],
   "source": [
    "!gcloud config list project"
   ]
  },
  {
   "cell_type": "markdown",
   "id": "f1b6fecc",
   "metadata": {},
   "source": [
    "### Set googld cloud config "
   ]
  },
  {
   "cell_type": "code",
   "execution_count": null,
   "id": "1a900145",
   "metadata": {},
   "outputs": [],
   "source": [
    "gcloud config set compute/region $REGION\n",
    "gcloud config set ai_platform/region global"
   ]
  },
  {
   "cell_type": "markdown",
   "id": "4f1d2a39",
   "metadata": {},
   "source": [
    "### Create bucket"
   ]
  },
  {
   "cell_type": "code",
   "execution_count": null,
   "id": "294f802b",
   "metadata": {},
   "outputs": [],
   "source": [
    "%%bash\n",
    "if ! gsutil ls | grep -q gs://${BUCKET}; then\n",
    "    gsutil mb -l ${REGION} gs://${BUCKET}\n",
    "fi"
   ]
  },
  {
   "cell_type": "markdown",
   "id": "8aae8cd0",
   "metadata": {},
   "source": [
    "### Usage of argparse"
   ]
  },
  {
   "cell_type": "code",
   "execution_count": null,
   "id": "ca948b46",
   "metadata": {},
   "outputs": [],
   "source": [
    "# https://docs.python.org/ko/3/library/argparse.html\n",
    "\n",
    "import argparse\n",
    "parser = argparse.ArgumentParser()\n",
    "parser.add_argument(\n",
    "    name or flags...  # ex: \"--job-dir\"\n",
    "    [, nargs]  # ex: \"+\" 존재하는 모든 명령행 인자를 리스트로 모읍니다. 또한, 적어도 하나의 명령행 인자가 제공되지 않으면 에러 메시지가 만들어집니다\n",
    "    [, default]\n",
    "    [, type]  # ex: int, float\n",
    "    [, required]  # ex: True or False\n",
    "    [, help]\n",
    ")\n",
    "\n",
    "args = parser.parse_args()\n",
    "arguments = args.__dict__\n"
   ]
  },
  {
   "cell_type": "markdown",
   "id": "0326ae1d",
   "metadata": {},
   "source": [
    "### train_and_evaluate"
   ]
  },
  {
   "cell_type": "markdown",
   "id": "a8bd1193",
   "metadata": {},
   "source": [
    "1. build_wide_deep_model\n",
    "  - create input layers\n",
    "    - {  name: keras.Input(name, shape, dtype)  }\n",
    "  - create feature columns of wide and deep features\n",
    "    - create numeric_column(name)\n",
    "    - create categorical column\n",
    "      - categorical_column_with_vocabulary_list(name, values)\n",
    "      - indicator_column(category)\n",
    "    - create new deep feature with numeric columns\n",
    "      - bucketized_column(fc, boundaries=list)\n",
    "      - indicator_column(bucketized): one-hot encoding\n",
    "      - crossed_column([bucketized1, bucketized2], hash_bucket_size)\n",
    "      - embedding_column(crossed, dimension=nembeds)\n",
    "  - stack DenseFeatures layers of wide and deep features\n",
    "  - add Dense layers\n",
    "    - activation=relu\n",
    "  - add Concatenate layer of wide and deep layers\n",
    "  - add output Dense layer\n",
    "    - units=1, activation=linear\n",
    "  - create model with inputs and outputs\n",
    "  - compile model\n",
    "    - loss=mse, optimizer=adam, metrics=[rmse, mse]\n",
    "2. load_dataset: traind, evals\n",
    "  - get dataset from csv\n",
    "    - make_csv_dataset(pattern, batch_size, COLUMNS, DEFAULTS)\n",
    "  - append map function to split feature and labels \n",
    "  - if train, then shuffle and repeat\n",
    "    - repeat(None): infinite repeat\n",
    "    - shuffle(buffer_size=1000): input proper value\n",
    "  - prefetch\n",
    "    - buffer_size=1 is AUTOTUNE\n",
    "3. model.fit\n",
    "  - trainds\n",
    "  - validation_data=evalds\n",
    "  - epochs = NUM_EVALS or NUM_EPOCHS\n",
    "  - steps_per_epoch = train_examples // (batch_size * epochs)\n",
    "  - callbacks=[callbacks]\n",
    "4. set hypertune\n",
    "  - report_hyperparameter_tuning_metric\n",
    "    - hyperparameter_metric_tag='rmse'  # monitoring target name\n",
    "    - metric_value=history.history['val_rmse'][-1],  # monitoring target value: \n",
    "    - global_step=args['num_epochs']\n",
    "5. save model"
   ]
  },
  {
   "cell_type": "markdown",
   "id": "d80d449a",
   "metadata": {},
   "source": [
    "### steps_per_epoch 의미\n",
    "\n",
    "steps_per_epoch = train_examples // (batch_size * epochs)\n",
    "- virtual epoch. 1개의 epoch을 여러 step으로 나누고 각 step이 epoch과 동일하게 eval, callbacks 처리됨"
   ]
  },
  {
   "cell_type": "markdown",
   "id": "00d9f04a",
   "metadata": {},
   "source": [
    "### Deleting and deploying model"
   ]
  },
  {
   "cell_type": "code",
   "execution_count": null,
   "id": "14c7bc72",
   "metadata": {},
   "outputs": [],
   "source": [
    "%%bash\n",
    "MODEL_NAME=\"babyweight\"\n",
    "MODEL_VERSION=\"ml_on_gcp\"\n",
    "MODEL_LOCATION='gs://qwiklabs-gcp-00-0db9b1bc58c6/babyweight/trained_model/20210602015319'\n",
    "echo \"Deleting and deploying $MODEL_NAME $MODEL_VERSION from $MODEL_LOCATION\"\n",
    "\n",
    "# 모델 삭제 전에 모든 버전을 삭제해야 함\n",
    "# default 버전은 다른 버전을 모두 삭제한 후에 삭제 가능함\n",
    "gcloud ai-platform versions delete ${MODEL_VERSION} --model ${MODEL_NAME} -q\n",
    "gcloud ai-platform models delete ${MODEL_NAME} -q\n",
    "\n",
    "# 모델 생성 후 버전 생성\n",
    "gcloud ai-platform models create ${MODEL_NAME} --regions ${REGION}\n",
    "gcloud ai-platform versions create ${MODEL_VERSION} \\\n",
    "    --model=${MODEL_NAME} \\\n",
    "    --origin=${MODEL_LOCATION} \\\n",
    "    --runtime-version=2.1 \\\n",
    "    --python-version=3.7"
   ]
  }
 ],
 "metadata": {
  "environment": {
   "name": "tf2-gpu.2-1.m69",
   "type": "gcloud",
   "uri": "gcr.io/deeplearning-platform-release/tf2-gpu.2-1:m69"
  },
  "kernelspec": {
   "display_name": "Python 3",
   "language": "python",
   "name": "python3"
  },
  "language_info": {
   "codemirror_mode": {
    "name": "ipython",
    "version": 3
   },
   "file_extension": ".py",
   "mimetype": "text/x-python",
   "name": "python",
   "nbconvert_exporter": "python",
   "pygments_lexer": "ipython3",
   "version": "3.7.10"
  }
 },
 "nbformat": 4,
 "nbformat_minor": 5
}
