{
 "cells": [
  {
   "cell_type": "markdown",
   "id": "9e11770e",
   "metadata": {},
   "source": [
    "# optional_1_data_exploration"
   ]
  },
  {
   "cell_type": "markdown",
   "id": "3fed9601",
   "metadata": {},
   "source": [
    "training-data-analyst/courses/machine_learning/deepdive2/time_series_prediction/labs/optional_1_data_exploration.ipynb"
   ]
  },
  {
   "cell_type": "markdown",
   "id": "33dc07af",
   "metadata": {},
   "source": [
    "#### global variable로 cell contents replace"
   ]
  },
  {
   "cell_type": "code",
   "execution_count": null,
   "id": "26ae5d59",
   "metadata": {},
   "outputs": [],
   "source": [
    "# Allow you to easily have Python variables in SQL query.\n",
    "@register_cell_magic('with_globals')\n",
    "def with_globals(line, cell):\n",
    "    contents = cell.format(**globals())\n",
    "    if 'print' in line:    # print가 포함되면 cell contents를 출력\n",
    "        print(contents)\n",
    "    get_ipython().run_cell(contents)"
   ]
  },
  {
   "cell_type": "markdown",
   "id": "9a2aadc9",
   "metadata": {},
   "source": [
    "#### create the dataset in our project BiqQuery"
   ]
  },
  {
   "cell_type": "code",
   "execution_count": null,
   "id": "b61e45b1",
   "metadata": {},
   "outputs": [],
   "source": [
    "!bq mk stock_src"
   ]
  },
  {
   "cell_type": "markdown",
   "id": "6e6bd36b",
   "metadata": {},
   "source": [
    "#### upload csv to bigquery"
   ]
  },
  {
   "cell_type": "code",
   "execution_count": null,
   "id": "0a6a7afe",
   "metadata": {},
   "outputs": [],
   "source": [
    "# https://cloud.google.com/bigquery/docs/loading-data-local?hl=ko#bq\n",
    "\n",
    "%%bash\n",
    "\n",
    "TABLE=price_history\n",
    "SCHEMA=symbol:STRING,Date:DATE,Open:FLOAT,Close:FLOAT\n",
    "                \n",
    "test -f $TABLE.csv || unzip ../stock_src/$TABLE.csv.zip\n",
    "gsutil -m cp $TABLE.csv gs://$BUCKET/stock_src/$TABLE.csv\n",
    "bq load --source_format=CSV --skip_leading_rows=1 \\\n",
    "    stock_src.$TABLE gs://$BUCKET/stock_src/$TABLE.csv  $SCHEMA"
   ]
  },
  {
   "cell_type": "markdown",
   "id": "521ce673",
   "metadata": {},
   "source": [
    "#### bigquery table columns 목록 확인"
   ]
  },
  {
   "cell_type": "code",
   "execution_count": null,
   "id": "01af7991",
   "metadata": {},
   "outputs": [],
   "source": [
    "%%bigquery --project {PROJECT}\n",
    "SELECT table_name, column_name, data_type\n",
    "FROM `stock_src.INFORMATION_SCHEMA.COLUMNS`\n",
    "ORDER BY table_name, ordinal_position"
   ]
  },
  {
   "cell_type": "code",
   "execution_count": null,
   "id": "c39592bc",
   "metadata": {},
   "outputs": [],
   "source": []
  },
  {
   "cell_type": "code",
   "execution_count": null,
   "id": "96f2a665",
   "metadata": {},
   "outputs": [],
   "source": [
    "# https://pandas.pydata.org/pandas-docs/stable/reference/api/pandas.Series.rolling.html\n",
    "# https://ordo.tistory.com/67\n",
    "# window=100, center로 mean값 생성 ==> smooth plot 생성\n",
    "df_stock['Close_smoothed'] = df_stock.Close.rolling(100, center=True).mean()"
   ]
  },
  {
   "cell_type": "code",
   "execution_count": null,
   "id": "625b63b9",
   "metadata": {},
   "outputs": [],
   "source": [
    "# dataframe의 date값을 datetime type으로 변경\n",
    "df_stock.Date = pd.to_datetime(df_stock.Date)"
   ]
  },
  {
   "cell_type": "markdown",
   "id": "20ff006f",
   "metadata": {},
   "source": [
    "#### 하나의 도표에 여러 값 plot 하기"
   ]
  },
  {
   "cell_type": "code",
   "execution_count": null,
   "id": "2c31f106",
   "metadata": {},
   "outputs": [],
   "source": [
    "# plotting price of symbol and S&P 500\n",
    "def plot_with_sp(symbol):\n",
    "    df_stock = query_stock(symbol)\n",
    "    df_stock.Date = pd.to_datetime(df_stock.Date)\n",
    "\n",
    "    fig = plt.figure()\n",
    "    ax1 = fig.add_subplot(111)\n",
    "    ax2 = ax1.twinx()\n",
    "\n",
    "    ax = df_sp.plot(x='Date', y='Close', label='S&P', color='green', ax=ax1,\n",
    "                    alpha=0.7)\n",
    "    ax = df_stock.plot(x='Date', y='Close', label=symbol,\n",
    "                       title=symbol + ' and S&P index', ax=ax2, alpha=0.7)\n",
    "    ax1.legend(loc=3)\n",
    "    ax2.legend(loc=4)\n",
    "\n",
    "    ax1.set_ylabel('S&P price')\n",
    "    ax2.set_ylabel(symbol + ' price')\n",
    "\n",
    "    ax.set_xlim(pd.to_datetime('2004-08-05'), pd.to_datetime('2013-08-05'))"
   ]
  },
  {
   "cell_type": "code",
   "execution_count": null,
   "id": "86bcad16",
   "metadata": {},
   "outputs": [],
   "source": []
  },
  {
   "cell_type": "code",
   "execution_count": 39,
   "id": "927b1787",
   "metadata": {
    "colab": {},
    "colab_type": "code",
    "id": "jhpq3oBbpQ6J"
   },
   "outputs": [],
   "source": [
    "# https://cloud.google.com/bigquery/docs/reference/standard-sql/navigation_functions?hl=ko#lag\n",
    "# https://gent.tistory.com/339\n",
    "# LAG(col, offset) : offset이전 row의 col값 반환\n",
    "# OVER (PARTITION BY symbol ORDER BY year DESC) : symbol별 정렬 후 LAG 처리\n",
    "\n",
    "%%bigquery df --project {PROJECT}   # bigquery 실행 결과가 dataframe df로 전달\n",
    "WITH \n",
    "with_year AS  # 임시 테이블 with_year 생성\n",
    "    (\n",
    "    SELECT symbol, \n",
    "    EXTRACT(YEAR FROM date) AS year,  # datetime에서 year만 추출\n",
    "    close\n",
    "    FROM `stock_src.price_history`\n",
    "    WHERE symbol in (SELECT symbol FROM `stock_src.snp500`)\n",
    "    ),\n",
    "year_aggregated AS # 임시 테이블 year_aggregated 생성\n",
    "    (\n",
    "    SELECT year, symbol, AVG(close) as avg_close\n",
    "    FROM with_year\n",
    "    WHERE year >= 2000\n",
    "    GROUP BY year, symbol\n",
    "    )\n",
    "SELECT year, symbol, avg_close as close,\n",
    "(LAG(avg_close, 1) OVER (PARTITION BY symbol ORDER BY year DESC) # symbol 별 \n",
    ") AS next_yr_close\n",
    "FROM year_aggregated\n",
    "ORDER BY symbol, year"
   ]
  },
  {
   "cell_type": "code",
   "execution_count": null,
   "id": "f05c09ad",
   "metadata": {},
   "outputs": [],
   "source": [
    "# dropna: na가 포함된 row 제거 후 \n",
    "# inplace=True: df에 저장\n",
    "df.dropna(inplace=True)"
   ]
  },
  {
   "cell_type": "code",
   "execution_count": null,
   "id": "2a5c0893",
   "metadata": {},
   "outputs": [],
   "source": [
    "# percent_increase 컬럼 추가\n",
    "df['percent_increase'] = (df.next_yr_close - df.close) / df.close"
   ]
  },
  {
   "cell_type": "code",
   "execution_count": null,
   "id": "6d26868b",
   "metadata": {},
   "outputs": [],
   "source": [
    "# symbol값 n개 샘플 추출. symbol값만 남음\n",
    "random_stocks = df.symbol.sample(n=3, random_state=3)\n",
    "\n",
    "# symbol에 해당하는 row merge\n",
    "df.merge(random_stocks)\n",
    "\n",
    "# arg 기준으로 정렬\n",
    "df.sort_values('percent_increase')"
   ]
  },
  {
   "cell_type": "code",
   "execution_count": null,
   "id": "e58f958b",
   "metadata": {},
   "outputs": [],
   "source": []
  },
  {
   "cell_type": "code",
   "execution_count": 82,
   "id": "b63cc116",
   "metadata": {
    "colab": {
     "base_uri": "https://localhost:8080/",
     "height": 195
    },
    "colab_type": "code",
    "id": "hidHA05BpQ6n",
    "outputId": "6af1d2f3-14aa-43bf-85b6-b77383b34b84"
   },
   "outputs": [
    {
     "data": {
      "text/html": [
       "<div>\n",
       "<style scoped>\n",
       "    .dataframe tbody tr th:only-of-type {\n",
       "        vertical-align: middle;\n",
       "    }\n",
       "\n",
       "    .dataframe tbody tr th {\n",
       "        vertical-align: top;\n",
       "    }\n",
       "\n",
       "    .dataframe thead th {\n",
       "        text-align: right;\n",
       "    }\n",
       "</style>\n",
       "<table border=\"1\" class=\"dataframe\">\n",
       "  <thead>\n",
       "    <tr style=\"text-align: right;\">\n",
       "      <th></th>\n",
       "      <th>Date</th>\n",
       "      <th>industry</th>\n",
       "      <th>close</th>\n",
       "    </tr>\n",
       "  </thead>\n",
       "  <tbody>\n",
       "    <tr>\n",
       "      <th>0</th>\n",
       "      <td>2000-01-03</td>\n",
       "      <td>Consumer Discretionary</td>\n",
       "      <td>46.464000</td>\n",
       "    </tr>\n",
       "    <tr>\n",
       "      <th>1</th>\n",
       "      <td>2000-01-04</td>\n",
       "      <td>Consumer Discretionary</td>\n",
       "      <td>45.101538</td>\n",
       "    </tr>\n",
       "    <tr>\n",
       "      <th>2</th>\n",
       "      <td>2000-01-05</td>\n",
       "      <td>Consumer Discretionary</td>\n",
       "      <td>45.071077</td>\n",
       "    </tr>\n",
       "    <tr>\n",
       "      <th>3</th>\n",
       "      <td>2000-01-06</td>\n",
       "      <td>Consumer Discretionary</td>\n",
       "      <td>44.745077</td>\n",
       "    </tr>\n",
       "    <tr>\n",
       "      <th>4</th>\n",
       "      <td>2000-01-07</td>\n",
       "      <td>Consumer Discretionary</td>\n",
       "      <td>45.738308</td>\n",
       "    </tr>\n",
       "  </tbody>\n",
       "</table>\n",
       "</div>"
      ],
      "text/plain": [
       "         Date                industry      close\n",
       "0  2000-01-03  Consumer Discretionary  46.464000\n",
       "1  2000-01-04  Consumer Discretionary  45.101538\n",
       "2  2000-01-05  Consumer Discretionary  45.071077\n",
       "3  2000-01-06  Consumer Discretionary  44.745077\n",
       "4  2000-01-07  Consumer Discretionary  45.738308"
      ]
     },
     "execution_count": 82,
     "metadata": {},
     "output_type": "execute_result"
    }
   ],
   "source": [
    "df.head()"
   ]
  },
  {
   "cell_type": "code",
   "execution_count": null,
   "id": "2f1b1fac",
   "metadata": {},
   "outputs": [],
   "source": [
    "# set_index(['industry', 'Date']) : index를 industry와 date로 변경\n",
    "# unstack(0) : index=0인 industry 컬럼을 기준으로 pivot. industry가 컬럼명으로 이동\n",
    "# dropna() : NaN이 포함된 row 삭제\n",
    "df.set_index(['industry', 'Date']).unstack(0).dropna()"
   ]
  },
  {
   "cell_type": "code",
   "execution_count": null,
   "id": "617450fb",
   "metadata": {},
   "outputs": [],
   "source": [
    "# plot dataframe \n",
    "ax = df_ind.plot(figsize=(16, 8))\n",
    "# Move legend down.\n",
    "ax.legend(loc='upper center', bbox_to_anchor=(0.5, -0.05), shadow=True, ncol=2)"
   ]
  },
  {
   "cell_type": "code",
   "execution_count": null,
   "id": "b69c7aea",
   "metadata": {},
   "outputs": [],
   "source": [
    "# close price를 0~1 사이 값으로 변경\n",
    "def min_max_scale(df):\n",
    "    return (df - df.min()) / df.max()"
   ]
  },
  {
   "cell_type": "code",
   "execution_count": null,
   "id": "ff7e2f7d",
   "metadata": {},
   "outputs": [],
   "source": []
  },
  {
   "cell_type": "code",
   "execution_count": null,
   "id": "6dc69983",
   "metadata": {},
   "outputs": [],
   "source": []
  },
  {
   "cell_type": "code",
   "execution_count": null,
   "id": "e82d2f9a",
   "metadata": {},
   "outputs": [],
   "source": []
  },
  {
   "cell_type": "code",
   "execution_count": null,
   "id": "0ed1c2ce",
   "metadata": {},
   "outputs": [],
   "source": [
    "# http://www.gurubee.net/lecture/2674\n",
    "# https://geniusjo.tistory.com/entry/%EC%9C%88%EB%8F%84%EC%9A%B0-%ED%95%A8%EC%88%98WINDOW-FUNCTION\n",
    "\n",
    "# (현재 row로부터 n_days 앞의 row)부터 (현재 row로부터 바로 앞의 row)까지의 row\n",
    "# ROWS BETWEEN {n_days} PRECEDING AND 1 PRECEDING\n",
    "\n",
    "def get_window_fxn(agg_fxn, n_days):\n",
    "    \"\"\"Generate a time-series feature. \n",
    "    \n",
    "    E.g., Compute the average of the price over the past 5 days.\"\"\"\n",
    "    SCALE_VALUE = 'close'\n",
    "    sql = '''\n",
    "    ({agg_fxn}(close) OVER (PARTITION BY symbol\n",
    "                      ORDER BY date desc\n",
    "                      ROWS BETWEEN {n_days} PRECEDING AND 1 PRECEDING))/{scale}\n",
    "                      AS close_{agg_fxn}_prior_{n_days}_days'''.format(\n",
    "                          agg_fxn=agg_fxn, n_days=n_days, scale=SCALE_VALUE)\n",
    "    return sql\n"
   ]
  },
  {
   "cell_type": "code",
   "execution_count": null,
   "id": "e7c01e02",
   "metadata": {},
   "outputs": [],
   "source": []
  },
  {
   "cell_type": "code",
   "execution_count": null,
   "id": "811ae6f5",
   "metadata": {},
   "outputs": [],
   "source": []
  }
 ],
 "metadata": {
  "environment": {
   "name": "tf2-gpu.2-1.m69",
   "type": "gcloud",
   "uri": "gcr.io/deeplearning-platform-release/tf2-gpu.2-1:m69"
  },
  "kernelspec": {
   "display_name": "Python 3",
   "language": "python",
   "name": "python3"
  },
  "language_info": {
   "codemirror_mode": {
    "name": "ipython",
    "version": 3
   },
   "file_extension": ".py",
   "mimetype": "text/x-python",
   "name": "python",
   "nbconvert_exporter": "python",
   "pygments_lexer": "ipython3",
   "version": "3.7.10"
  }
 },
 "nbformat": 4,
 "nbformat_minor": 5
}
