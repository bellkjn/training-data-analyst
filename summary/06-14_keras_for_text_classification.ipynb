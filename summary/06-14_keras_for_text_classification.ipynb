{
 "cells": [
  {
   "cell_type": "markdown",
   "id": "f5faf1e4",
   "metadata": {},
   "source": [
    "training-data-analyst/courses/machine_learning/deepdive2/text_classification/labs/keras_for_text_classification.ipynb"
   ]
  },
  {
   "cell_type": "markdown",
   "id": "f99164d6",
   "metadata": {},
   "source": [
    "## counts of each column"
   ]
  },
  {
   "cell_type": "code",
   "execution_count": null,
   "id": "d25f9900",
   "metadata": {},
   "outputs": [],
   "source": [
    "dataframe.{column_name}.value_counts()"
   ]
  },
  {
   "cell_type": "code",
   "execution_count": null,
   "id": "0d1a84bb",
   "metadata": {},
   "outputs": [],
   "source": []
  },
  {
   "cell_type": "markdown",
   "id": "9d916e64",
   "metadata": {},
   "source": [
    "## Integerize the texts"
   ]
  },
  {
   "cell_type": "code",
   "execution_count": null,
   "id": "d44a316c",
   "metadata": {},
   "outputs": [],
   "source": [
    "tokenizer = Tokenizer()\n",
    "tokenizer.fit_on_texts(titles_df.title)"
   ]
  },
  {
   "cell_type": "code",
   "execution_count": null,
   "id": "b8f32a5c",
   "metadata": {},
   "outputs": [],
   "source": [
    "sequences = tokenizer.texts_to_sequences(texts) \n",
    "padded_sequences = pad_sequences(sequences, max_len, padding='post') "
   ]
  },
  {
   "cell_type": "code",
   "execution_count": null,
   "id": "e8d354a1",
   "metadata": {},
   "outputs": [],
   "source": [
    "VOCAB_SIZE = len(tokenizer.index_word)\n",
    "DATASET_SIZE = tokenizer.document_count\n",
    "MAX_LEN = max(len(sequence) for sequence in integerized_titles)"
   ]
  },
  {
   "cell_type": "code",
   "execution_count": null,
   "id": "75e56d17",
   "metadata": {},
   "outputs": [],
   "source": [
    "CLASSES = {\n",
    "    'github': 0,\n",
    "    'nytimes': 1,\n",
    "    'techcrunch': 2\n",
    "}\n",
    "N_CLASSES = len(CLASSES)\n",
    "\n",
    "# https://www.tensorflow.org/api_docs/python/tf/keras/utils/to_categorical\n",
    "classes = [CLASSES.get(m) for m in sources]\n",
    "one_hots = to_categorical(classes)"
   ]
  },
  {
   "cell_type": "code",
   "execution_count": null,
   "id": "b2481749",
   "metadata": {},
   "outputs": [],
   "source": []
  },
  {
   "cell_type": "markdown",
   "id": "e1191445",
   "metadata": {},
   "source": [
    "## Build DNN"
   ]
  },
  {
   "cell_type": "code",
   "execution_count": null,
   "id": "a9bed775",
   "metadata": {},
   "outputs": [],
   "source": [
    "# https://github.com/keras-team/keras/issues/9637\n",
    "# padding(=0)를 tokenized vocab에 포함하기 위해 Embedding layer의 input_dim=VOCAB_SIZE에 +1\n",
    "Embedding(VOCAB_SIZE+1, embed_dim, input_length=MAX_LEN),  \n",
    "Lambda(lambda x: tf.reduce_mean(x, axis=1)),\n",
    "Dense(N_CLASSES, activation='softmax')"
   ]
  },
  {
   "cell_type": "code",
   "execution_count": null,
   "id": "4a9cd7c3",
   "metadata": {},
   "outputs": [],
   "source": []
  },
  {
   "cell_type": "code",
   "execution_count": null,
   "id": "b8b2207d",
   "metadata": {},
   "outputs": [],
   "source": [
    "## Show execute time of cell in Jupyter notebook\n",
    "%%time\n",
    "\n",
    "## code"
   ]
  },
  {
   "cell_type": "markdown",
   "id": "9e05019d",
   "metadata": {},
   "source": [
    "## Build RNN"
   ]
  },
  {
   "cell_type": "code",
   "execution_count": null,
   "id": "f6a61f8a",
   "metadata": {},
   "outputs": [],
   "source": [
    "# https://www.tensorflow.org/api_docs/python/tf/keras/layers/Embedding\n",
    "# the padded words (represented by a zero) are ignored by this and the subsequent layers.\n",
    "Embedding(VOCAB_SIZE+1, embed_dim, input_length=MAX_LEN, mask_zero=True),\n",
    "GRU(units),\n",
    "Dense(N_CLASSES, activation='softmax')"
   ]
  },
  {
   "cell_type": "code",
   "execution_count": null,
   "id": "749e1121",
   "metadata": {},
   "outputs": [],
   "source": []
  },
  {
   "cell_type": "markdown",
   "id": "1e829bb2",
   "metadata": {},
   "source": [
    "## input dataset이 one-hot encoded 형태이고, loss function으로 sparse_categorical_crossentropy을 사용했을 때 발생하는 에러\n",
    "\n",
    "InvalidArgumentError: 2 root error(s) found.\n",
    "  (0) Invalid argument:  logits and labels must have the same first dimension, got logits shape [300,3] and labels shape [900]\n",
    "\t [[node sparse_categorical_crossentropy/SparseSoftmaxCrossEntropyWithLogits/SparseSoftmaxCrossEntropyWithLogits (defined at <timed exec>:18) ]]\n",
    "\t [[gradient_tape/sequential_3/embedding_3/embedding_lookup/Reshape/_40]]\n",
    "  (1) Invalid argument:  logits and labels must have the same first dimension, got logits shape [300,3] and labels shape [900]\n",
    "\t [[node sparse_categorical_crossentropy/SparseSoftmaxCrossEntropyWithLogits/SparseSoftmaxCrossEntropyWithLogits (defined at <timed exec>:18) ]]\n",
    "0 successful operations.\n",
    "0 derived errors ignored. [Op:__inference_train_function_20316]\n",
    "\n",
    "Function call stack:\n",
    "train_function -> train_function\n"
   ]
  },
  {
   "cell_type": "code",
   "execution_count": null,
   "id": "f6b822d3",
   "metadata": {},
   "outputs": [],
   "source": []
  },
  {
   "cell_type": "markdown",
   "id": "5d54ab3c",
   "metadata": {},
   "source": [
    "## Build CNN"
   ]
  },
  {
   "cell_type": "code",
   "execution_count": null,
   "id": "a35fe063",
   "metadata": {},
   "outputs": [],
   "source": [
    "# https://www.tensorflow.org/api_docs/python/tf/keras/layers/Embedding\n",
    "Embedding(VOCAB_SIZE+1, embed_dim, input_length=MAX_LEN, mask_zero=True),\n",
    "Conv1D(filters, ksize, strides=strides, activation='relu'),\n",
    "Flatten(),\n",
    "Dense(N_CLASSES, activation='softmax')"
   ]
  }
 ],
 "metadata": {
  "environment": {
   "name": "tf2-gpu.2-1.m69",
   "type": "gcloud",
   "uri": "gcr.io/deeplearning-platform-release/tf2-gpu.2-1:m69"
  },
  "kernelspec": {
   "display_name": "Python 3",
   "language": "python",
   "name": "python3"
  },
  "language_info": {
   "codemirror_mode": {
    "name": "ipython",
    "version": 3
   },
   "file_extension": ".py",
   "mimetype": "text/x-python",
   "name": "python",
   "nbconvert_exporter": "python",
   "pygments_lexer": "ipython3",
   "version": "3.7.10"
  }
 },
 "nbformat": 4,
 "nbformat_minor": 5
}
