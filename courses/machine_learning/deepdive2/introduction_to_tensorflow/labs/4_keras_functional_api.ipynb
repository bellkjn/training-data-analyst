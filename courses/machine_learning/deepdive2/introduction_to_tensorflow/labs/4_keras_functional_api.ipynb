{
 "cells": [
  {
   "cell_type": "markdown",
   "metadata": {},
   "source": [
    "# Introducing the Keras Functional API\n",
    "\n",
    "**Learning Objectives**\n",
    "  1. Understand embeddings and how to create them with the feature column API\n",
    "  1. Understand Deep and Wide models and when to use them\n",
    "  1. Understand the Keras functional API and how to build a deep and wide model with it\n",
    "\n",
    "## Introduction\n",
    "\n",
    "In the last notebook, we learned about the Keras Sequential API. The [Keras Functional API](https://www.tensorflow.org/guide/keras#functional_api) provides an alternate way of building models which is more flexible. With the Functional API, we can build models with more complex topologies, multiple input or output layers, shared layers or non-sequential data flows (e.g. residual layers).\n",
    "\n",
    "In this notebook we'll use what we learned about feature columns to build a Wide & Deep model. Recall, that the idea behind Wide & Deep models is to join the two methods of learning through memorization and generalization by making a wide linear model and a deep learning model to accommodate both. You can have a look at the original research paper here: [Wide & Deep Learning for Recommender Systems](https://arxiv.org/abs/1606.07792).\n",
    "\n",
    "<img src='assets/wide_deep.png' width='80%'>\n",
    "<sup>(image: https://ai.googleblog.com/2016/06/wide-deep-learning-better-together-with.html)</sup>\n",
    "\n",
    "The Wide part of the model is associated with the memory element. In this case, we train a linear model with a wide set of crossed features and learn the correlation of this related data with the assigned label. The Deep part of the model is associated with the generalization element where we use embedding vectors for features. The best embeddings are then learned through the training process. While both of these methods can work well alone, Wide & Deep models excel by combining these techniques together.\n",
    "\n",
    "Each learning objective will correspond to a __#TODO__  in this student lab notebook -- try to complete this notebook first and then review the [solution notebook](https://github.com/GoogleCloudPlatform/training-data-analyst/blob/master/courses/machine_learning/deepdive2/introduction_to_tensorflow/solutions/4_keras_functional_api.ipynb)\n"
   ]
  },
  {
   "cell_type": "code",
   "execution_count": 1,
   "metadata": {},
   "outputs": [],
   "source": [
    "# Use the chown command to change the ownership of the repository.\n",
    "!sudo chown -R jupyter:jupyter /home/jupyter/training-data-analyst"
   ]
  },
  {
   "cell_type": "code",
   "execution_count": 2,
   "metadata": {},
   "outputs": [
    {
     "name": "stdout",
     "output_type": "stream",
     "text": [
      "Collecting tensorflow==2.3\n",
      "  Downloading tensorflow-2.3.0-cp37-cp37m-manylinux2010_x86_64.whl (320.4 MB)\n",
      "\u001b[K     |████████████████████████████████| 320.4 MB 31 kB/s s eta 0:00:012\n",
      "\u001b[?25hRequirement already satisfied: tensorboard<3,>=2.3.0 in /opt/conda/lib/python3.7/site-packages (from tensorflow==2.3) (2.5.0)\n",
      "Collecting astunparse==1.6.3\n",
      "  Downloading astunparse-1.6.3-py2.py3-none-any.whl (12 kB)\n",
      "Collecting gast==0.3.3\n",
      "  Downloading gast-0.3.3-py2.py3-none-any.whl (9.7 kB)\n",
      "Requirement already satisfied: wheel>=0.26 in /opt/conda/lib/python3.7/site-packages (from tensorflow==2.3) (0.36.2)\n",
      "Requirement already satisfied: opt-einsum>=2.3.2 in /opt/conda/lib/python3.7/site-packages (from tensorflow==2.3) (3.3.0)\n",
      "Requirement already satisfied: wrapt>=1.11.1 in /opt/conda/lib/python3.7/site-packages (from tensorflow==2.3) (1.12.1)\n",
      "Collecting scipy==1.4.1\n",
      "  Downloading scipy-1.4.1-cp37-cp37m-manylinux1_x86_64.whl (26.1 MB)\n",
      "\u001b[K     |████████████████████████████████| 26.1 MB 51.4 MB/s eta 0:00:01\n",
      "\u001b[?25hRequirement already satisfied: h5py<2.11.0,>=2.10.0 in /opt/conda/lib/python3.7/site-packages (from tensorflow==2.3) (2.10.0)\n",
      "Requirement already satisfied: grpcio>=1.8.6 in /opt/conda/lib/python3.7/site-packages (from tensorflow==2.3) (1.37.1)\n",
      "Requirement already satisfied: protobuf>=3.9.2 in /opt/conda/lib/python3.7/site-packages (from tensorflow==2.3) (3.16.0)\n",
      "Collecting tensorflow-estimator<2.4.0,>=2.3.0\n",
      "  Downloading tensorflow_estimator-2.3.0-py2.py3-none-any.whl (459 kB)\n",
      "\u001b[K     |████████████████████████████████| 459 kB 78.4 MB/s eta 0:00:01\n",
      "\u001b[?25hRequirement already satisfied: absl-py>=0.7.0 in /opt/conda/lib/python3.7/site-packages (from tensorflow==2.3) (0.8.1)\n",
      "Collecting numpy<1.19.0,>=1.16.0\n",
      "  Downloading numpy-1.18.5-cp37-cp37m-manylinux1_x86_64.whl (20.1 MB)\n",
      "\u001b[K     |████████████████████████████████| 20.1 MB 58.1 MB/s eta 0:00:01\n",
      "\u001b[?25hRequirement already satisfied: termcolor>=1.1.0 in /opt/conda/lib/python3.7/site-packages (from tensorflow==2.3) (1.1.0)\n",
      "Requirement already satisfied: six>=1.12.0 in /opt/conda/lib/python3.7/site-packages (from tensorflow==2.3) (1.16.0)\n",
      "Collecting keras-preprocessing<1.2,>=1.1.1\n",
      "  Downloading Keras_Preprocessing-1.1.2-py2.py3-none-any.whl (42 kB)\n",
      "\u001b[K     |████████████████████████████████| 42 kB 1.9 MB/s  eta 0:00:01\n",
      "\u001b[?25hRequirement already satisfied: google-pasta>=0.1.8 in /opt/conda/lib/python3.7/site-packages (from tensorflow==2.3) (0.2.0)\n",
      "Requirement already satisfied: google-auth-oauthlib<0.5,>=0.4.1 in /opt/conda/lib/python3.7/site-packages (from tensorboard<3,>=2.3.0->tensorflow==2.3) (0.4.4)\n",
      "Requirement already satisfied: markdown>=2.6.8 in /opt/conda/lib/python3.7/site-packages (from tensorboard<3,>=2.3.0->tensorflow==2.3) (3.3.4)\n",
      "Requirement already satisfied: google-auth<2,>=1.6.3 in /opt/conda/lib/python3.7/site-packages (from tensorboard<3,>=2.3.0->tensorflow==2.3) (1.30.0)\n",
      "Requirement already satisfied: tensorboard-data-server<0.7.0,>=0.6.0 in /opt/conda/lib/python3.7/site-packages (from tensorboard<3,>=2.3.0->tensorflow==2.3) (0.6.1)\n",
      "Requirement already satisfied: tensorboard-plugin-wit>=1.6.0 in /opt/conda/lib/python3.7/site-packages (from tensorboard<3,>=2.3.0->tensorflow==2.3) (1.8.0)\n",
      "Requirement already satisfied: werkzeug>=0.11.15 in /opt/conda/lib/python3.7/site-packages (from tensorboard<3,>=2.3.0->tensorflow==2.3) (2.0.0)\n",
      "Requirement already satisfied: requests<3,>=2.21.0 in /opt/conda/lib/python3.7/site-packages (from tensorboard<3,>=2.3.0->tensorflow==2.3) (2.25.1)\n",
      "Requirement already satisfied: setuptools>=41.0.0 in /opt/conda/lib/python3.7/site-packages (from tensorboard<3,>=2.3.0->tensorflow==2.3) (49.6.0.post20210108)\n",
      "Requirement already satisfied: pyasn1-modules>=0.2.1 in /opt/conda/lib/python3.7/site-packages (from google-auth<2,>=1.6.3->tensorboard<3,>=2.3.0->tensorflow==2.3) (0.2.7)\n",
      "Requirement already satisfied: rsa<5,>=3.1.4 in /opt/conda/lib/python3.7/site-packages (from google-auth<2,>=1.6.3->tensorboard<3,>=2.3.0->tensorflow==2.3) (4.7.2)\n",
      "Requirement already satisfied: cachetools<5.0,>=2.0.0 in /opt/conda/lib/python3.7/site-packages (from google-auth<2,>=1.6.3->tensorboard<3,>=2.3.0->tensorflow==2.3) (4.2.2)\n",
      "Requirement already satisfied: requests-oauthlib>=0.7.0 in /opt/conda/lib/python3.7/site-packages (from google-auth-oauthlib<0.5,>=0.4.1->tensorboard<3,>=2.3.0->tensorflow==2.3) (1.3.0)\n",
      "Requirement already satisfied: importlib-metadata in /opt/conda/lib/python3.7/site-packages (from markdown>=2.6.8->tensorboard<3,>=2.3.0->tensorflow==2.3) (4.0.1)\n",
      "Requirement already satisfied: pyasn1<0.5.0,>=0.4.6 in /opt/conda/lib/python3.7/site-packages (from pyasn1-modules>=0.2.1->google-auth<2,>=1.6.3->tensorboard<3,>=2.3.0->tensorflow==2.3) (0.4.8)\n",
      "Requirement already satisfied: idna<3,>=2.5 in /opt/conda/lib/python3.7/site-packages (from requests<3,>=2.21.0->tensorboard<3,>=2.3.0->tensorflow==2.3) (2.10)\n",
      "Requirement already satisfied: certifi>=2017.4.17 in /opt/conda/lib/python3.7/site-packages (from requests<3,>=2.21.0->tensorboard<3,>=2.3.0->tensorflow==2.3) (2020.12.5)\n",
      "Requirement already satisfied: urllib3<1.27,>=1.21.1 in /opt/conda/lib/python3.7/site-packages (from requests<3,>=2.21.0->tensorboard<3,>=2.3.0->tensorflow==2.3) (1.26.4)\n",
      "Requirement already satisfied: chardet<5,>=3.0.2 in /opt/conda/lib/python3.7/site-packages (from requests<3,>=2.21.0->tensorboard<3,>=2.3.0->tensorflow==2.3) (4.0.0)\n",
      "Requirement already satisfied: oauthlib>=3.0.0 in /opt/conda/lib/python3.7/site-packages (from requests-oauthlib>=0.7.0->google-auth-oauthlib<0.5,>=0.4.1->tensorboard<3,>=2.3.0->tensorflow==2.3) (3.0.1)\n",
      "Requirement already satisfied: typing-extensions>=3.6.4 in /opt/conda/lib/python3.7/site-packages (from importlib-metadata->markdown>=2.6.8->tensorboard<3,>=2.3.0->tensorflow==2.3) (3.7.4.3)\n",
      "Requirement already satisfied: zipp>=0.5 in /opt/conda/lib/python3.7/site-packages (from importlib-metadata->markdown>=2.6.8->tensorboard<3,>=2.3.0->tensorflow==2.3) (3.4.1)\n",
      "Installing collected packages: numpy, tensorflow-estimator, scipy, keras-preprocessing, gast, astunparse, tensorflow\n",
      "  Attempting uninstall: numpy\n",
      "    Found existing installation: numpy 1.19.5\n",
      "    Uninstalling numpy-1.19.5:\n",
      "      Successfully uninstalled numpy-1.19.5\n",
      "  Attempting uninstall: tensorflow-estimator\n",
      "    Found existing installation: tensorflow-estimator 2.1.0\n",
      "    Uninstalling tensorflow-estimator-2.1.0:\n",
      "      Successfully uninstalled tensorflow-estimator-2.1.0\n",
      "  Attempting uninstall: scipy\n",
      "    Found existing installation: scipy 1.6.3\n",
      "    Uninstalling scipy-1.6.3:\n",
      "      Successfully uninstalled scipy-1.6.3\n",
      "  Attempting uninstall: keras-preprocessing\n",
      "    Found existing installation: Keras-Preprocessing 1.1.0\n",
      "    Uninstalling Keras-Preprocessing-1.1.0:\n",
      "      Successfully uninstalled Keras-Preprocessing-1.1.0\n",
      "  Attempting uninstall: gast\n",
      "    Found existing installation: gast 0.2.2\n",
      "    Uninstalling gast-0.2.2:\n",
      "      Successfully uninstalled gast-0.2.2\n",
      "  Attempting uninstall: tensorflow\n",
      "    Found existing installation: tensorflow 2.1.3\n",
      "    Uninstalling tensorflow-2.1.3:\n",
      "      Successfully uninstalled tensorflow-2.1.3\n",
      "\u001b[31mERROR: pip's dependency resolver does not currently take into account all the packages that are installed. This behaviour is the source of the following dependency conflicts.\n",
      "witwidget 1.7.0 requires oauth2client>=4.1.3, but you have oauth2client 3.0.0 which is incompatible.\n",
      "tfx 0.21.5 requires docker<5,>=4.1, but you have docker 5.0.0 which is incompatible.\n",
      "tfx 0.21.5 requires google-api-python-client<2,>=1.7.8, but you have google-api-python-client 2.3.0 which is incompatible.\n",
      "tfx 0.21.5 requires kubernetes<11,>=10.0.1, but you have kubernetes 12.0.1 which is incompatible.\n",
      "tfx 0.21.5 requires pyarrow<0.16,>=0.15, but you have pyarrow 4.0.0 which is incompatible.\n",
      "tfx-bsl 0.21.4 requires google-api-python-client<2,>=1.7.11, but you have google-api-python-client 2.3.0 which is incompatible.\n",
      "tfx-bsl 0.21.4 requires pyarrow<0.16.0,>=0.15.0, but you have pyarrow 4.0.0 which is incompatible.\n",
      "tensorflow-transform 0.21.2 requires tensorflow<2.2,>=1.15, but you have tensorflow 2.3.0 which is incompatible.\n",
      "tensorflow-serving-api 2.1.0 requires tensorflow~=2.1.0, but you have tensorflow 2.3.0 which is incompatible.\n",
      "tensorflow-model-analysis 0.21.6 requires pyarrow<1,>=0.15, but you have pyarrow 4.0.0 which is incompatible.\n",
      "tensorflow-io 0.11.0 requires tensorflow==2.1.0, but you have tensorflow 2.3.0 which is incompatible.\n",
      "tensorflow-data-validation 0.21.5 requires joblib<0.15,>=0.12, but you have joblib 1.0.1 which is incompatible.\n",
      "tensorflow-data-validation 0.21.5 requires pandas<1,>=0.24, but you have pandas 1.2.4 which is incompatible.\n",
      "tensorflow-data-validation 0.21.5 requires scikit-learn<0.22,>=0.18, but you have scikit-learn 0.24.2 which is incompatible.\n",
      "phik 0.11.2 requires scipy>=1.5.2, but you have scipy 1.4.1 which is incompatible.\n",
      "apache-beam 2.17.0 requires httplib2<=0.12.0,>=0.8, but you have httplib2 0.19.1 which is incompatible.\n",
      "apache-beam 2.17.0 requires pyarrow<0.16.0,>=0.15.1; python_version >= \"3.0\" or platform_system != \"Windows\", but you have pyarrow 4.0.0 which is incompatible.\u001b[0m\n",
      "Successfully installed astunparse-1.6.3 gast-0.3.3 keras-preprocessing-1.1.2 numpy-1.18.5 scipy-1.4.1 tensorflow-2.3.0 tensorflow-estimator-2.3.0\n"
     ]
    }
   ],
   "source": [
    "# Ensure the right version of Tensorflow is installed.\n",
    "!pip freeze | grep tensorflow==2.3 || pip install tensorflow==2.3"
   ]
  },
  {
   "cell_type": "markdown",
   "metadata": {},
   "source": [
    "Kindly ignore the deprecation warnings and incompatibility errors."
   ]
  },
  {
   "cell_type": "markdown",
   "metadata": {},
   "source": [
    "Start by importing the necessary libraries for this lab."
   ]
  },
  {
   "cell_type": "code",
   "execution_count": 6,
   "metadata": {},
   "outputs": [
    {
     "name": "stdout",
     "output_type": "stream",
     "text": [
      "2.3.0\n"
     ]
    }
   ],
   "source": [
    "import datetime\n",
    "import os\n",
    "import shutil\n",
    "\n",
    "import numpy as np\n",
    "import pandas as pd\n",
    "import tensorflow as tf\n",
    "\n",
    "from matplotlib import pyplot as plt\n",
    "from tensorflow import keras\n",
    "\n",
    "from tensorflow import feature_column as fc\n",
    "\n",
    "from tensorflow.keras import Model\n",
    "from tensorflow.keras.layers import (\n",
    "    Input, Dense, DenseFeatures, concatenate)\n",
    "from tensorflow.keras.callbacks import TensorBoard\n",
    "\n",
    "print(tf.__version__)"
   ]
  },
  {
   "cell_type": "code",
   "execution_count": 7,
   "metadata": {},
   "outputs": [],
   "source": [
    "%matplotlib inline"
   ]
  },
  {
   "cell_type": "markdown",
   "metadata": {},
   "source": [
    "## Load raw data \n",
    "\n",
    "We will use the taxifare dataset, using the CSV files that we created in the first notebook of this sequence. Those files have been saved into `../data`."
   ]
  },
  {
   "cell_type": "code",
   "execution_count": 8,
   "metadata": {},
   "outputs": [
    {
     "name": "stdout",
     "output_type": "stream",
     "text": [
      "-rw-r--r-- 1 jupyter jupyter 123590 May 20 02:13 ../data/taxi-test.csv\n",
      "-rw-r--r-- 1 jupyter jupyter 579055 May 20 02:13 ../data/taxi-train.csv\n",
      "-rw-r--r-- 1 jupyter jupyter 123114 May 20 02:13 ../data/taxi-valid.csv\n"
     ]
    }
   ],
   "source": [
    "!ls -l ../data/*.csv"
   ]
  },
  {
   "cell_type": "markdown",
   "metadata": {},
   "source": [
    "## Use tf.data to read the CSV files\n",
    "\n",
    "We wrote these functions for reading data from the csv files above in the [previous notebook](2_dataset_api.ipynb). For this lab we will also include some additional engineered features in our model. In particular, we will compute the difference in latitude and longitude, as well as the Euclidean distance between the pick-up and drop-off locations. We can accomplish this by adding these new features to the features dictionary with the function `add_engineered_features` below. \n",
    "\n",
    "Note that we include a call to this function when collecting our features dict and labels in the `features_and_labels` function below as well. "
   ]
  },
  {
   "cell_type": "code",
   "execution_count": 9,
   "metadata": {},
   "outputs": [],
   "source": [
    "CSV_COLUMNS = [\n",
    "    'fare_amount',\n",
    "    'pickup_datetime',\n",
    "    'pickup_longitude',\n",
    "    'pickup_latitude',\n",
    "    'dropoff_longitude',\n",
    "    'dropoff_latitude',\n",
    "    'passenger_count',\n",
    "    'key'\n",
    "]\n",
    "LABEL_COLUMN = 'fare_amount'\n",
    "DEFAULTS = [[0.0], ['na'], [0.0], [0.0], [0.0], [0.0], [0.0], ['na']]\n",
    "UNWANTED_COLS = ['pickup_datetime', 'key']\n",
    "\n",
    "\n",
    "def features_and_labels(row_data):\n",
    "    label = row_data.pop(LABEL_COLUMN)\n",
    "    features = row_data\n",
    "        \n",
    "    for unwanted_col in UNWANTED_COLS:\n",
    "        features.pop(unwanted_col)\n",
    "\n",
    "    return features, label\n",
    "\n",
    "\n",
    "def create_dataset(pattern, batch_size=1, mode='eval'):\n",
    "    dataset = tf.data.experimental.make_csv_dataset(\n",
    "        pattern, batch_size, CSV_COLUMNS, DEFAULTS)\n",
    "\n",
    "    dataset = dataset.map(features_and_labels)\n",
    "    \n",
    "    if mode == 'train':\n",
    "        dataset = dataset.shuffle(buffer_size=1000).repeat()\n",
    "\n",
    "    # take advantage of multi-threading; 1=AUTOTUNE\n",
    "    dataset = dataset.prefetch(1)\n",
    "    return dataset"
   ]
  },
  {
   "cell_type": "markdown",
   "metadata": {},
   "source": [
    "## Feature columns for Wide and Deep model\n",
    "\n",
    "For the Wide columns, we will create feature columns of crossed features. To do this, we'll create a collection of Tensorflow feature columns to pass to the `tf.feature_column.crossed_column` constructor. The Deep columns will consist of numeric columns and the embedding columns we want to create. "
   ]
  },
  {
   "cell_type": "markdown",
   "metadata": {},
   "source": [
    "**Lab Task #1:** In the cell below, create feature columns for our wide-and-deep model. You'll need to build \n",
    "1. bucketized columns using [tf.feature_column.bucketized_column](https://www.tensorflow.org/api_docs/python/tf/feature_column/bucketized_column) for the pickup and dropoff latitude and longitude,\n",
    "2. crossed columns using [tf.feature_column.crossed_column](https://www.tensorflow.org/api_docs/python/tf/feature_column/crossed_column) for those bucketized columns, and \n",
    "3. embedding columns using [tf.feature_column.embedding_column](https://www.tensorflow.org/api_docs/python/tf/feature_column/embedding_column) for the crossed columns."
   ]
  },
  {
   "cell_type": "code",
   "execution_count": 16,
   "metadata": {},
   "outputs": [],
   "source": [
    "# TODO 1\n",
    "\n",
    "# 1. Bucketize latitudes and longitudes\n",
    "NBUCKETS = 16\n",
    "latbuckets = np.linspace(start=38.0, stop=42.0, num=NBUCKETS).tolist()\n",
    "lonbuckets = np.linspace(start=-76.0, stop=-72.0, num=NBUCKETS).tolist()\n",
    "\n",
    "fc_bucketized_plat = fc.bucketized_column(source_column=fc.numeric_column(\"pickup_latitude\"), boundaries=latbuckets)\n",
    "fc_bucketized_plon = fc.bucketized_column(source_column=fc.numeric_column(\"pickup_longitude\"), boundaries=lonbuckets)\n",
    "fc_bucketized_dlat = fc.bucketized_column(source_column=fc.numeric_column(\"dropoff_latitude\"), boundaries=latbuckets)\n",
    "fc_bucketized_dlon = fc.bucketized_column(source_column=fc.numeric_column(\"dropoff_longitude\"), boundaries=lonbuckets)\n",
    "\n",
    "# 2. Cross features for locations\n",
    "fc_crossed_dloc = fc.crossed_column([fc_bucketized_plat, fc_bucketized_plon], hash_bucket_size=NBUCKETS * NBUCKETS)\n",
    "fc_crossed_ploc = fc.crossed_column([fc_bucketized_dlat, fc_bucketized_dlon], hash_bucket_size=NBUCKETS * NBUCKETS)\n",
    "fc_crossed_pd_pair = fc.crossed_column([fc_crossed_dloc, fc_crossed_ploc], hash_bucket_size=NBUCKETS * NBUCKETS)\n",
    "\n",
    "# 3. Create embedding columns for the crossed columns\n",
    "fc_pd_pair = fc.embedding_column(fc_crossed_pd_pair, 10)\n",
    "fc_dloc = fc.embedding_column(categorical_column=fc_crossed_dloc, dimension=3)\n",
    "fc_ploc = fc.embedding_column(categorical_column=fc_crossed_ploc, dimension=3)"
   ]
  },
  {
   "cell_type": "markdown",
   "metadata": {},
   "source": [
    "### Gather list of feature columns\n",
    "\n",
    "Next we gather the list of wide and deep feature columns we'll pass to our Wide & Deep model in Tensorflow. Recall, wide columns are sparse, have linear relationship with the output while continuous columns are deep, have a complex relationship with the output. We will use our previously bucketized columns to collect crossed feature columns and sparse feature columns for our wide columns, and embedding feature columns and numeric features columns for the deep columns."
   ]
  },
  {
   "cell_type": "markdown",
   "metadata": {},
   "source": [
    "**Lab Task #2:** Collect the wide and deep columns into two separate lists. You'll have two lists: One called `wide_columns` containing the one-hot encoded features from the crossed features and one called `deep_columns` which contains numeric and embedding feature columns."
   ]
  },
  {
   "cell_type": "code",
   "execution_count": 17,
   "metadata": {},
   "outputs": [],
   "source": [
    "# TODO 2\n",
    "wide_columns = [\n",
    "    # One-hot encoded feature crosses\n",
    "    # TODO: Your code goes here.\n",
    "    fc.indicator_column(fc_crossed_ploc),\n",
    "    fc.indicator_column(fc_crossed_dloc),\n",
    "    fc.indicator_column(fc_crossed_pd_pair),\n",
    "]\n",
    "\n",
    "deep_columns = [\n",
    "    # Embedding_column to \"group\" together ...\n",
    "    # TODO: Your code goes here.\n",
    "    fc_pd_pair,\n",
    "\n",
    "    # Numeric columns\n",
    "    # TODO: Your code goes here.\n",
    "    fc.numeric_column('pickup_longitude'),\n",
    "    fc.numeric_column('pickup_latitude'),\n",
    "    fc.numeric_column('dropoff_longitude'),\n",
    "    fc.numeric_column('dropoff_latitude'),\n",
    "\n",
    "]"
   ]
  },
  {
   "cell_type": "markdown",
   "metadata": {},
   "source": [
    "## Build a Wide and Deep model in Keras\n",
    "\n",
    "To build a wide-and-deep network, we connect the sparse (i.e. wide) features directly to the output node, but pass the dense (i.e. deep) features through a set of fully connected layers. Here’s that model architecture looks using the Functional API.\n",
    "\n",
    "First, we'll create our input columns using [tf.keras.layers.Input](https://www.tensorflow.org/versions/r2.0/api_docs/python/tf/keras/Input)."
   ]
  },
  {
   "cell_type": "code",
   "execution_count": 18,
   "metadata": {},
   "outputs": [],
   "source": [
    "INPUT_COLS = [\n",
    "    'pickup_longitude',\n",
    "    'pickup_latitude',\n",
    "    'dropoff_longitude',\n",
    "    'dropoff_latitude',\n",
    "    'passenger_count'\n",
    "]\n",
    "\n",
    "inputs = {colname : Input(name=colname, shape=(), dtype='float32')\n",
    "          for colname in INPUT_COLS\n",
    "}"
   ]
  },
  {
   "cell_type": "markdown",
   "metadata": {},
   "source": [
    "Then, we'll define our custom RMSE evaluation metric and build our wide and deep model."
   ]
  },
  {
   "cell_type": "markdown",
   "metadata": {},
   "source": [
    "**Lab Task #3:** Complete the code in the function `build_model` below so that it returns a compiled Keras model. The argument `dnn_hidden_units` should represent the number of units in each layer of your network. Use the Functional API to build a wide-and-deep model. Use the `deep_columns` you created above to build the deep layers and the `wide_columns` to create the wide layers. Once you have the wide and deep components, you will combine them to feed to a final fully connected layer. "
   ]
  },
  {
   "cell_type": "code",
   "execution_count": 27,
   "metadata": {},
   "outputs": [],
   "source": [
    "def rmse(y_true, y_pred):\n",
    "    return tf.sqrt(tf.reduce_mean(tf.square(y_pred - y_true)))\n",
    "\n",
    "# TODO 3\n",
    "def build_model(dnn_hidden_units):\n",
    "    # Create the deep part of model\n",
    "    deep = DenseFeatures(deep_columns, name='deep_inputs')(inputs)\n",
    "    for units in dnn_hidden_units:\n",
    "        deep = Dense(units, activation='relu')(deep)\n",
    "    \n",
    "    # Create the wide part of model\n",
    "    wide = DenseFeatures(wide_columns, name='wide_inputs')(inputs)\n",
    "\n",
    "    # Combine deep and wide parts of the model\n",
    "    combined = concatenate([deep, wide], name='combined')\n",
    "\n",
    "    # Map the combined outputs into a single prediction value\n",
    "    output = Dense(1, activation=None, name='predicted')(combined)\n",
    "    \n",
    "    # Finalize the model\n",
    "    model = keras.Model(inputs=list(inputs.values()), outputs=output)\n",
    "\n",
    "    # Compile the keras model\n",
    "    model.compile(optimizer='rmsprop', loss='mse',  metrics=[rmse, 'mse'])\n",
    "    \n",
    "    return model"
   ]
  },
  {
   "cell_type": "markdown",
   "metadata": {},
   "source": [
    "Next, we can call the `build_model` to create the model. Here we'll have two hidden layers, each with 10 neurons, for the deep part of our model. We can also use `plot_model` to see a diagram of the model we've created."
   ]
  },
  {
   "cell_type": "code",
   "execution_count": 28,
   "metadata": {},
   "outputs": [
    {
     "data": {
      "image/png": "[encoded data removed]",
      "text/plain": [
       "<IPython.core.display.Image object>"
      ]
     },
     "execution_count": 28,
     "metadata": {},
     "output_type": "execute_result"
    }
   ],
   "source": [
    "HIDDEN_UNITS = [10,10]\n",
    "\n",
    "model = build_model(dnn_hidden_units=HIDDEN_UNITS)\n",
    "\n",
    "tf.keras.utils.plot_model(model, show_shapes=False, rankdir='LR')"
   ]
  },
  {
   "cell_type": "markdown",
   "metadata": {},
   "source": [
    "Next, we'll set up our training variables, create our datasets for training and validation, and train our model.\n",
    "\n",
    "(We refer you the the blog post [ML Design Pattern #3: Virtual Epochs](https://medium.com/google-cloud/ml-design-pattern-3-virtual-epochs-f842296de730) for further details on why express the training in terms of `NUM_TRAIN_EXAMPLES` and `NUM_EVALS` and why, in this training code, the number of epochs is really equal to the number of evaluations we perform.)"
   ]
  },
  {
   "cell_type": "code",
   "execution_count": 29,
   "metadata": {},
   "outputs": [],
   "source": [
    "BATCH_SIZE = 1000\n",
    "NUM_TRAIN_EXAMPLES = 10000 * 5  # training dataset will repeat, wrap around\n",
    "NUM_EVALS = 50  # how many times to evaluate\n",
    "NUM_EVAL_EXAMPLES = 10000  # enough to get a reasonable sample\n",
    "\n",
    "trainds = create_dataset(\n",
    "    pattern='../data/taxi-train*',\n",
    "    batch_size=BATCH_SIZE,\n",
    "    mode='train')\n",
    "\n",
    "evalds = create_dataset(\n",
    "    pattern='../data/taxi-valid*',\n",
    "    batch_size=BATCH_SIZE,\n",
    "    mode='eval').take(NUM_EVAL_EXAMPLES//1000)"
   ]
  },
  {
   "cell_type": "code",
   "execution_count": 30,
   "metadata": {},
   "outputs": [
    {
     "name": "stdout",
     "output_type": "stream",
     "text": [
      "Epoch 1/50\n",
      "1/1 [==============================] - 1s 852ms/step - loss: 281.0347 - rmse: 16.7641 - mse: 281.0347 - val_loss: 339.6432 - val_rmse: 18.4258 - val_mse: 339.6432\n",
      "Epoch 2/50\n",
      "WARNING:tensorflow:From /opt/conda/lib/python3.7/site-packages/tensorflow/python/ops/summary_ops_v2.py:1277: stop (from tensorflow.python.eager.profiler) is deprecated and will be removed after 2020-07-01.\n",
      "Instructions for updating:\n",
      "use `tf.profiler.experimental.stop` instead.\n",
      "1/1 [==============================] - 0s 259ms/step - loss: 327.7599 - rmse: 18.1041 - mse: 327.7599 - val_loss: 332.3784 - val_rmse: 18.2269 - val_mse: 332.3784\n",
      "Epoch 3/50\n",
      "1/1 [==============================] - 0s 242ms/step - loss: 316.5286 - rmse: 17.7913 - mse: 316.5286 - val_loss: 325.9765 - val_rmse: 18.0511 - val_mse: 325.9765\n",
      "Epoch 4/50\n",
      "1/1 [==============================] - 0s 252ms/step - loss: 292.2688 - rmse: 17.0959 - mse: 292.2688 - val_loss: 319.6670 - val_rmse: 17.8760 - val_mse: 319.6670\n",
      "Epoch 5/50\n",
      "1/1 [==============================] - 0s 261ms/step - loss: 286.1268 - rmse: 16.9153 - mse: 286.1268 - val_loss: 320.0699 - val_rmse: 17.8817 - val_mse: 320.0699\n",
      "Epoch 6/50\n",
      "1/1 [==============================] - 0s 251ms/step - loss: 275.8726 - rmse: 16.6094 - mse: 275.8726 - val_loss: 312.4437 - val_rmse: 17.6746 - val_mse: 312.4437\n",
      "Epoch 7/50\n",
      "1/1 [==============================] - 0s 253ms/step - loss: 279.2939 - rmse: 16.7121 - mse: 279.2939 - val_loss: 309.3054 - val_rmse: 17.5801 - val_mse: 309.3054\n",
      "Epoch 8/50\n",
      "1/1 [==============================] - 0s 261ms/step - loss: 303.4961 - rmse: 17.4211 - mse: 303.4961 - val_loss: 304.1790 - val_rmse: 17.4371 - val_mse: 304.1790\n",
      "Epoch 9/50\n",
      "1/1 [==============================] - 0s 278ms/step - loss: 246.9715 - rmse: 15.7153 - mse: 246.9715 - val_loss: 302.7192 - val_rmse: 17.3923 - val_mse: 302.7192\n",
      "Epoch 10/50\n",
      "1/1 [==============================] - 0s 254ms/step - loss: 265.0077 - rmse: 16.2791 - mse: 265.0077 - val_loss: 295.3986 - val_rmse: 17.1832 - val_mse: 295.3986\n",
      "Epoch 11/50\n",
      "1/1 [==============================] - 0s 253ms/step - loss: 243.9002 - rmse: 15.6173 - mse: 243.9002 - val_loss: 295.4965 - val_rmse: 17.1878 - val_mse: 295.4965\n",
      "Epoch 12/50\n",
      "1/1 [==============================] - 0s 319ms/step - loss: 264.2265 - rmse: 16.2550 - mse: 264.2265 - val_loss: 292.5295 - val_rmse: 17.0963 - val_mse: 292.5295\n",
      "Epoch 13/50\n",
      "1/1 [==============================] - 0s 304ms/step - loss: 257.8986 - rmse: 16.0592 - mse: 257.8986 - val_loss: 291.4782 - val_rmse: 17.0693 - val_mse: 291.4782\n",
      "Epoch 14/50\n",
      "1/1 [==============================] - 0s 327ms/step - loss: 239.1267 - rmse: 15.4637 - mse: 239.1267 - val_loss: 289.6201 - val_rmse: 17.0108 - val_mse: 289.6201\n",
      "Epoch 15/50\n",
      "1/1 [==============================] - 0s 335ms/step - loss: 254.0158 - rmse: 15.9379 - mse: 254.0158 - val_loss: 288.7759 - val_rmse: 16.9829 - val_mse: 288.7759\n",
      "Epoch 16/50\n",
      "1/1 [==============================] - 0s 312ms/step - loss: 265.7638 - rmse: 16.3023 - mse: 265.7638 - val_loss: 281.2321 - val_rmse: 16.7649 - val_mse: 281.2321\n",
      "Epoch 17/50\n",
      "1/1 [==============================] - 0s 326ms/step - loss: 223.3186 - rmse: 14.9438 - mse: 223.3186 - val_loss: 281.4656 - val_rmse: 16.7697 - val_mse: 281.4656\n",
      "Epoch 18/50\n",
      "1/1 [==============================] - 0s 259ms/step - loss: 267.5307 - rmse: 16.3564 - mse: 267.5307 - val_loss: 278.5588 - val_rmse: 16.6838 - val_mse: 278.5588\n",
      "Epoch 19/50\n",
      "1/1 [==============================] - 0s 242ms/step - loss: 257.5579 - rmse: 16.0486 - mse: 257.5579 - val_loss: 275.3041 - val_rmse: 16.5862 - val_mse: 275.3041\n",
      "Epoch 20/50\n",
      "1/1 [==============================] - 0s 245ms/step - loss: 256.4229 - rmse: 16.0132 - mse: 256.4229 - val_loss: 276.4278 - val_rmse: 16.6184 - val_mse: 276.4278\n",
      "Epoch 21/50\n",
      "1/1 [==============================] - 0s 229ms/step - loss: 238.9758 - rmse: 15.4588 - mse: 238.9758 - val_loss: 270.3972 - val_rmse: 16.4301 - val_mse: 270.3972\n",
      "Epoch 22/50\n",
      "1/1 [==============================] - 0s 276ms/step - loss: 245.4519 - rmse: 15.6669 - mse: 245.4519 - val_loss: 269.5187 - val_rmse: 16.4101 - val_mse: 269.5187\n",
      "Epoch 23/50\n",
      "1/1 [==============================] - 0s 263ms/step - loss: 253.9138 - rmse: 15.9347 - mse: 253.9138 - val_loss: 267.8626 - val_rmse: 16.3590 - val_mse: 267.8626\n",
      "Epoch 24/50\n",
      "1/1 [==============================] - 0s 265ms/step - loss: 230.1805 - rmse: 15.1717 - mse: 230.1805 - val_loss: 262.9070 - val_rmse: 16.2042 - val_mse: 262.9070\n",
      "Epoch 25/50\n",
      "1/1 [==============================] - 0s 282ms/step - loss: 226.8950 - rmse: 15.0630 - mse: 226.8950 - val_loss: 260.6027 - val_rmse: 16.1399 - val_mse: 260.6027\n",
      "Epoch 26/50\n",
      "1/1 [==============================] - 0s 255ms/step - loss: 238.0211 - rmse: 15.4279 - mse: 238.0211 - val_loss: 258.5505 - val_rmse: 16.0689 - val_mse: 258.5505\n",
      "Epoch 27/50\n",
      "1/1 [==============================] - 0s 242ms/step - loss: 227.6341 - rmse: 15.0875 - mse: 227.6341 - val_loss: 255.0679 - val_rmse: 15.9688 - val_mse: 255.0679\n",
      "Epoch 28/50\n",
      "1/1 [==============================] - 0s 247ms/step - loss: 227.5259 - rmse: 15.0840 - mse: 227.5259 - val_loss: 251.1003 - val_rmse: 15.8369 - val_mse: 251.1003\n",
      "Epoch 29/50\n",
      "1/1 [==============================] - 0s 252ms/step - loss: 208.4666 - rmse: 14.4384 - mse: 208.4666 - val_loss: 249.6481 - val_rmse: 15.7874 - val_mse: 249.6481\n",
      "Epoch 30/50\n",
      "1/1 [==============================] - 0s 248ms/step - loss: 227.0839 - rmse: 15.0693 - mse: 227.0839 - val_loss: 247.3822 - val_rmse: 15.7154 - val_mse: 247.3822\n",
      "Epoch 31/50\n",
      "1/1 [==============================] - 0s 249ms/step - loss: 225.0675 - rmse: 15.0023 - mse: 225.0675 - val_loss: 246.2016 - val_rmse: 15.6860 - val_mse: 246.2016\n",
      "Epoch 32/50\n",
      "1/1 [==============================] - 0s 265ms/step - loss: 210.7180 - rmse: 14.5161 - mse: 210.7180 - val_loss: 245.1962 - val_rmse: 15.6551 - val_mse: 245.1962\n",
      "Epoch 33/50\n",
      "1/1 [==============================] - 0s 337ms/step - loss: 212.4370 - rmse: 14.5752 - mse: 212.4370 - val_loss: 241.2474 - val_rmse: 15.5227 - val_mse: 241.2474\n",
      "Epoch 34/50\n",
      "1/1 [==============================] - 0s 271ms/step - loss: 217.3215 - rmse: 14.7418 - mse: 217.3215 - val_loss: 238.1931 - val_rmse: 15.4254 - val_mse: 238.1931\n",
      "Epoch 35/50\n",
      "1/1 [==============================] - 0s 242ms/step - loss: 216.8098 - rmse: 14.7245 - mse: 216.8098 - val_loss: 235.5303 - val_rmse: 15.3328 - val_mse: 235.5303\n",
      "Epoch 36/50\n",
      "1/1 [==============================] - 0s 254ms/step - loss: 206.6527 - rmse: 14.3754 - mse: 206.6527 - val_loss: 233.2894 - val_rmse: 15.2606 - val_mse: 233.2894\n",
      "Epoch 37/50\n",
      "1/1 [==============================] - 0s 263ms/step - loss: 192.4390 - rmse: 13.8722 - mse: 192.4390 - val_loss: 231.0520 - val_rmse: 15.1867 - val_mse: 231.0520\n",
      "Epoch 38/50\n",
      "1/1 [==============================] - 0s 281ms/step - loss: 200.9228 - rmse: 14.1747 - mse: 200.9228 - val_loss: 229.9150 - val_rmse: 15.1551 - val_mse: 229.9150\n",
      "Epoch 39/50\n",
      "1/1 [==============================] - 0s 275ms/step - loss: 189.8941 - rmse: 13.7802 - mse: 189.8941 - val_loss: 225.6537 - val_rmse: 15.0155 - val_mse: 225.6537\n",
      "Epoch 40/50\n",
      "1/1 [==============================] - 0s 249ms/step - loss: 227.0515 - rmse: 15.0682 - mse: 227.0515 - val_loss: 223.2761 - val_rmse: 14.9371 - val_mse: 223.2761\n",
      "Epoch 41/50\n",
      "1/1 [==============================] - 0s 309ms/step - loss: 216.6900 - rmse: 14.7204 - mse: 216.6900 - val_loss: 222.0447 - val_rmse: 14.8826 - val_mse: 222.0447\n",
      "Epoch 42/50\n",
      "1/1 [==============================] - 0s 248ms/step - loss: 213.7112 - rmse: 14.6189 - mse: 213.7112 - val_loss: 218.0434 - val_rmse: 14.7474 - val_mse: 218.0434\n",
      "Epoch 43/50\n",
      "1/1 [==============================] - 0s 230ms/step - loss: 232.3997 - rmse: 15.2447 - mse: 232.3997 - val_loss: 216.3743 - val_rmse: 14.7009 - val_mse: 216.3743\n",
      "Epoch 44/50\n",
      "1/1 [==============================] - 0s 258ms/step - loss: 187.2155 - rmse: 13.6827 - mse: 187.2155 - val_loss: 212.6482 - val_rmse: 14.5649 - val_mse: 212.6482\n",
      "Epoch 45/50\n",
      "1/1 [==============================] - 0s 253ms/step - loss: 167.6997 - rmse: 12.9499 - mse: 167.6997 - val_loss: 212.4807 - val_rmse: 14.5632 - val_mse: 212.4807\n",
      "Epoch 46/50\n",
      "1/1 [==============================] - 0s 262ms/step - loss: 170.7614 - rmse: 13.0676 - mse: 170.7614 - val_loss: 207.4520 - val_rmse: 14.3966 - val_mse: 207.4520\n",
      "Epoch 47/50\n",
      "1/1 [==============================] - 0s 243ms/step - loss: 179.4776 - rmse: 13.3969 - mse: 179.4776 - val_loss: 206.1151 - val_rmse: 14.3435 - val_mse: 206.1151\n",
      "Epoch 48/50\n",
      "1/1 [==============================] - 0s 238ms/step - loss: 196.2495 - rmse: 14.0089 - mse: 196.2495 - val_loss: 202.9192 - val_rmse: 14.2367 - val_mse: 202.9192\n",
      "Epoch 49/50\n",
      "1/1 [==============================] - 0s 307ms/step - loss: 170.3790 - rmse: 13.0529 - mse: 170.3790 - val_loss: 203.5070 - val_rmse: 14.2475 - val_mse: 203.5070\n",
      "Epoch 50/50\n",
      "1/1 [==============================] - 0s 255ms/step - loss: 185.4673 - rmse: 13.6186 - mse: 185.4673 - val_loss: 197.1738 - val_rmse: 14.0322 - val_mse: 197.1738\n",
      "CPU times: user 37.1 s, sys: 8.31 s, total: 45.4 s\n",
      "Wall time: 28.9 s\n"
     ]
    }
   ],
   "source": [
    "%%time\n",
    "steps_per_epoch = NUM_TRAIN_EXAMPLES // (BATCH_SIZE * NUM_EVALS)\n",
    "\n",
    "OUTDIR = \"./taxi_trained\"\n",
    "shutil.rmtree(path=OUTDIR, ignore_errors=True) # start fresh each time\n",
    "\n",
    "# epoch 마다 validation 하기 위해서 steps_per_epoch 설정\n",
    "history = model.fit(x=trainds,\n",
    "                    steps_per_epoch=steps_per_epoch,\n",
    "                    epochs=NUM_EVALS,\n",
    "                    validation_data=evalds,\n",
    "                    callbacks=[TensorBoard(OUTDIR)])"
   ]
  },
  {
   "cell_type": "markdown",
   "metadata": {},
   "source": [
    "Just as before, we can examine the history to see how the RMSE changes through training on the train set and validation set. "
   ]
  },
  {
   "cell_type": "code",
   "execution_count": 31,
   "metadata": {},
   "outputs": [
    {
     "data": {
      "text/plain": [
       "<AxesSubplot:>"
      ]
     },
     "execution_count": 31,
     "metadata": {},
     "output_type": "execute_result"
    },
    {
     "data": {
      "image/png": "[encoded data removed]",
      "text/plain": [
       "<Figure size 432x288 with 1 Axes>"
      ]
     },
     "metadata": {
      "needs_background": "light"
     },
     "output_type": "display_data"
    }
   ],
   "source": [
    "RMSE_COLS = ['rmse', 'val_rmse']\n",
    "\n",
    "pd.DataFrame(history.history)[RMSE_COLS].plot()"
   ]
  },
  {
   "cell_type": "markdown",
   "metadata": {},
   "source": [
    "Copyright 2019 Google Inc. Licensed under the Apache License, Version 2.0 (the \"License\"); you may not use this file except in compliance with the License. You may obtain a copy of the License at http://www.apache.org/licenses/LICENSE-2.0 Unless required by applicable law or agreed to in writing, software distributed under the License is distributed on an \"AS IS\" BASIS, WITHOUT WARRANTIES OR CONDITIONS OF ANY KIND, either express or implied. See the License for the specific language governing permissions and limitations under the License"
   ]
  }
 ],
 "metadata": {
  "environment": {
   "name": "tf2-gpu.2-1.m69",
   "type": "gcloud",
   "uri": "gcr.io/deeplearning-platform-release/tf2-gpu.2-1:m69"
  },
  "kernelspec": {
   "display_name": "Python 3",
   "language": "python",
   "name": "python3"
  },
  "language_info": {
   "codemirror_mode": {
    "name": "ipython",
    "version": 3
   },
   "file_extension": ".py",
   "mimetype": "text/x-python",
   "name": "python",
   "nbconvert_exporter": "python",
   "pygments_lexer": "ipython3",
   "version": "3.7.10"
  }
 },
 "nbformat": 4,
 "nbformat_minor": 4
}
