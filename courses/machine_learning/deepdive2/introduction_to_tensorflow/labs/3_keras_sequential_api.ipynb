{
 "cells": [
  {
   "cell_type": "markdown",
   "metadata": {},
   "source": [
    "# Introducing the Keras Sequential API\n",
    "\n",
    "**Learning Objectives**\n",
    "  1. Learn how to use feature columns in a Keras model\n",
    "  1. Build a DNN model using the Keras Sequential API\n",
    "  1. Learn how to train a model with Keras\n",
    "  1. Learn how to save/load, and deploy a Keras model on GCP\n",
    "  1. Learn how to deploy and make predictions with at Keras model\n",
    "\n",
    "## Introduction\n",
    "\n",
    "The [Keras sequential API](https://keras.io/models/sequential/) allows you to create Tensorflow models layer-by-layer. This is useful for building most kinds of machine learning models but it does not allow you to create models that share layers, re-use layers or have multiple inputs or outputs. \n",
    "\n",
    "In this lab, we'll see how to build a simple deep neural network model using the keras sequential api and feature columns. Once we have trained our model, we will deploy it using AI Platform and see how to call our model for online prediciton.\n",
    "\n",
    "Each learning objective will correspond to a __#TODO__  in this student lab notebook -- try to complete this notebook first and then review the [solution notebook](https://github.com/GoogleCloudPlatform/training-data-analyst/blob/master/courses/machine_learning/deepdive2/introduction_to_tensorflow/solutions/3_keras_sequential_api.ipynb)\n"
   ]
  },
  {
   "cell_type": "code",
   "execution_count": 108,
   "metadata": {},
   "outputs": [],
   "source": [
    "!sudo chown -R jupyter:jupyter /home/jupyter/training-data-analyst"
   ]
  },
  {
   "cell_type": "markdown",
   "metadata": {},
   "source": [
    "Please ignore any incompatibility warnings and errors and re-run the cell to view the installed tensorflow version.\n"
   ]
  },
  {
   "cell_type": "markdown",
   "metadata": {},
   "source": [
    "Start by importing the necessary libraries for this lab."
   ]
  },
  {
   "cell_type": "code",
   "execution_count": 109,
   "metadata": {},
   "outputs": [
    {
     "name": "stdout",
     "output_type": "stream",
     "text": [
      "2.1.3\n"
     ]
    }
   ],
   "source": [
    "import datetime\n",
    "import os\n",
    "import shutil\n",
    "\n",
    "import numpy as np\n",
    "import pandas as pd\n",
    "import tensorflow as tf\n",
    "\n",
    "from matplotlib import pyplot as plt\n",
    "from tensorflow import keras\n",
    "\n",
    "from tensorflow.keras.models import Sequential\n",
    "from tensorflow.keras.layers import Dense, DenseFeatures\n",
    "from tensorflow.keras.callbacks import TensorBoard\n",
    "\n",
    "print(tf.__version__)\n",
    "%matplotlib inline"
   ]
  },
  {
   "cell_type": "markdown",
   "metadata": {},
   "source": [
    "## Load raw data \n",
    "\n",
    "We will use the taxifare dataset, using the CSV files that we created in the first notebook of this sequence. Those files have been saved into `../data`."
   ]
  },
  {
   "cell_type": "code",
   "execution_count": 110,
   "metadata": {},
   "outputs": [
    {
     "name": "stdout",
     "output_type": "stream",
     "text": [
      "-rw-r--r-- 1 jupyter jupyter 123590 May 20 02:13 ../data/taxi-test.csv\n",
      "-rw-r--r-- 1 jupyter jupyter 579055 May 20 02:13 ../data/taxi-train.csv\n",
      "-rw-r--r-- 1 jupyter jupyter 123114 May 20 02:13 ../data/taxi-valid.csv\n"
     ]
    }
   ],
   "source": [
    "!ls -l ../data/*.csv"
   ]
  },
  {
   "cell_type": "code",
   "execution_count": 111,
   "metadata": {},
   "outputs": [
    {
     "name": "stdout",
     "output_type": "stream",
     "text": [
      "==> ../data/taxi-test.csv <==\n",
      "6.0,2013-03-27 03:35:00 UTC,-73.977672,40.784052,-73.965332,40.801025,2,0\n",
      "19.3,2012-05-10 18:43:16 UTC,-73.954366,40.778924,-74.004094,40.723104,1,1\n",
      "7.5,2014-05-20 23:09:00 UTC,-73.999165,40.738377,-74.003473,40.723862,2,2\n",
      "12.5,2015-02-23 19:51:31 UTC,-73.9652099609375,40.76948165893555,-73.98949432373047,40.739742279052734,1,3\n",
      "10.9,2011-03-19 03:32:00 UTC,-73.99259,40.742957,-73.989908,40.711053,1,4\n",
      "7.0,2012-09-18 12:51:11 UTC,-73.971195,40.751566,-73.975922,40.756361,1,5\n",
      "19.0,2014-05-20 23:09:00 UTC,-73.998392,40.74517,-73.939845,40.74908,1,6\n",
      "8.9,2012-07-18 08:46:08 UTC,-73.997638,40.756541,-73.973303,40.762019,1,7\n",
      "4.5,2010-07-11 20:39:08 UTC,-73.976738,40.751321,-73.986671,40.74883,1,8\n",
      "7.0,2013-12-12 02:16:40 UTC,-73.985024,40.767537,-73.981273,40.779302,1,9\n",
      "\n",
      "==> ../data/taxi-train.csv <==\n",
      "11.3,2011-01-28 20:42:59 UTC,-73.999022,40.739146,-73.990369,40.717866,1,0\n",
      "7.7,2011-06-27 04:28:06 UTC,-73.987443,40.729221,-73.979013,40.758641,1,1\n",
      "10.5,2011-04-03 00:54:53 UTC,-73.982539,40.735725,-73.954797,40.778388,1,2\n",
      "16.2,2009-04-10 04:11:56 UTC,-74.001945,40.740505,-73.91385,40.758559,1,3\n",
      "33.5,2014-02-24 18:22:00 UTC,-73.993372,40.753382,-73.8609,40.732897,2,4\n",
      "6.9,2011-12-10 00:25:23 UTC,-73.996237,40.721848,-73.989416,40.718052,1,5\n",
      "6.1,2012-09-01 14:30:19 UTC,-73.977048,40.758461,-73.984899,40.744693,2,6\n",
      "9.5,2012-11-08 13:28:07 UTC,-73.969402,40.757545,-73.950049,40.776079,1,7\n",
      "9.0,2014-07-15 11:37:25 UTC,-73.979318,40.760949,-73.95767,40.773724,1,8\n",
      "3.3,2009-11-09 18:06:58 UTC,-73.955675,40.779154,-73.961172,40.772368,1,9\n",
      "\n",
      "==> ../data/taxi-valid.csv <==\n",
      "5.3,2012-01-03 19:21:35 UTC,-73.962627,40.763214,-73.973485,40.753353,1,0\n",
      "25.3,2010-09-27 07:30:15 UTC,-73.965799,40.794243,-73.927134,40.852261,3,1\n",
      "27.5,2015-05-19 00:40:02 UTC,-73.86344146728516,40.76899719238281,-73.96058654785156,40.76129913330078,1,2\n",
      "5.7,2010-04-29 12:28:00 UTC,-73.989255,40.738912,-73.97558,40.749172,1,3\n",
      "11.5,2013-06-23 06:08:09 UTC,-73.99731,40.763735,-73.955657,40.768141,1,4\n",
      "18.0,2014-10-14 18:52:03 UTC,-73.997995,40.761638,-74.008985,40.712442,1,5\n",
      "4.9,2010-04-29 12:28:00 UTC,-73.977315,40.766182,-73.970845,40.761462,5,6\n",
      "32.33,2014-02-24 18:22:00 UTC,-73.985358,40.761352,-73.92427,40.699145,1,7\n",
      "17.0,2015-03-26 02:48:58 UTC,-73.93981170654297,40.846473693847656,-73.97361755371094,40.786983489990234,1,8\n",
      "12.5,2013-04-09 09:39:13 UTC,-73.977323,40.753934,-74.00719,40.741472,1,9\n"
     ]
    }
   ],
   "source": [
    "!head ../data/taxi*.csv"
   ]
  },
  {
   "cell_type": "markdown",
   "metadata": {},
   "source": [
    "## Use tf.data to read the CSV files\n",
    "\n",
    "We wrote these functions for reading data from the csv files above in the [previous notebook](https://github.com/GoogleCloudPlatform/training-data-analyst/blob/master/courses/machine_learning/deepdive2/introduction_to_tensorflow/labs/2_dataset_api.ipynb)."
   ]
  },
  {
   "cell_type": "code",
   "execution_count": 112,
   "metadata": {},
   "outputs": [],
   "source": [
    "CSV_COLUMNS = [\n",
    "    'fare_amount',\n",
    "    'pickup_datetime',\n",
    "    'pickup_longitude',\n",
    "    'pickup_latitude',\n",
    "    'dropoff_longitude',\n",
    "    'dropoff_latitude',\n",
    "    'passenger_count',\n",
    "    'key'\n",
    "]\n",
    "LABEL_COLUMN = 'fare_amount'\n",
    "DEFAULTS = [[0.0], ['na'], [0.0], [0.0], [0.0], [0.0], [0.0], ['na']]\n",
    "UNWANTED_COLS = ['pickup_datetime', 'key']\n",
    "\n",
    "\n",
    "def features_and_labels(row_data):\n",
    "    label = row_data.pop(LABEL_COLUMN)\n",
    "    features = row_data\n",
    "    \n",
    "    for unwanted_col in UNWANTED_COLS:\n",
    "        features.pop(unwanted_col)\n",
    "\n",
    "    return features, label\n",
    "\n",
    "\n",
    "def create_dataset(pattern, batch_size=1, mode='eval'):\n",
    "    dataset = tf.data.experimental.make_csv_dataset(\n",
    "        pattern, batch_size, CSV_COLUMNS, DEFAULTS)\n",
    "\n",
    "    dataset = dataset.map(features_and_labels)\n",
    "\n",
    "    if mode == 'train':\n",
    "        dataset = dataset.shuffle(buffer_size=1000).repeat()\n",
    "\n",
    "    # take advantage of multi-threading; 1=AUTOTUNE\n",
    "    dataset = dataset.prefetch(1)\n",
    "    return dataset"
   ]
  },
  {
   "cell_type": "markdown",
   "metadata": {},
   "source": [
    "## Build a simple keras DNN model\n",
    "\n",
    "We will use feature columns to connect our raw data to our keras DNN model. Feature columns make it easy to perform common types of feature engineering on your raw data. For example, you can one-hot encode categorical data, create feature crosses, embeddings and more. We'll cover these in more detail later in the course, but if you want to a sneak peak browse the official TensorFlow [feature columns guide](https://www.tensorflow.org/guide/feature_columns).\n",
    "\n",
    "In our case we won't do any feature engineering. However, we still need to create a list of feature columns to specify the numeric values which will be passed on to our model. To do this, we use `tf.feature_column.numeric_column()`\n",
    "\n",
    "We use a python dictionary comprehension to create the feature columns for our model, which is just an elegant alternative to a for loop."
   ]
  },
  {
   "cell_type": "markdown",
   "metadata": {},
   "source": [
    "**Lab Task #1:** Create a feature column dictionary that we will use when building our deep neural network below. The keys should be the element of the `INPUT_COLS` list, while the values should be numeric feature columns."
   ]
  },
  {
   "cell_type": "code",
   "execution_count": 113,
   "metadata": {},
   "outputs": [],
   "source": [
    "INPUT_COLS = [\n",
    "    'pickup_longitude',\n",
    "    'pickup_latitude',\n",
    "    'dropoff_longitude',\n",
    "    'dropoff_latitude',\n",
    "    'passenger_count',\n",
    "]\n",
    "\n",
    "# Create input layer of feature columns\n",
    "# TODO 1\n",
    "feature_columns = [tf.feature_column.numeric_column(m) for m in INPUT_COLS]"
   ]
  },
  {
   "cell_type": "markdown",
   "metadata": {},
   "source": [
    "Next, we create the DNN model. The Sequential model is a linear stack of layers and when building a model using the Sequential API, you configure each layer of the model in turn. Once all the layers have been added, you compile the model. "
   ]
  },
  {
   "cell_type": "markdown",
   "metadata": {},
   "source": [
    "**Lab Task #2a:** Create a deep neural network using Keras's Sequential API. In the cell below, use the `tf.keras.layers` library to create all the layers for your deep neural network. "
   ]
  },
  {
   "cell_type": "code",
   "execution_count": 114,
   "metadata": {},
   "outputs": [],
   "source": [
    "# Build a keras DNN model using Sequential API\n",
    "# TODO 2a\n",
    "model = tf.keras.Sequential([\n",
    "    DenseFeatures(feature_columns=feature_columns),\n",
    "    Dense(units=32, activation=\"relu\", name=\"h1\"),\n",
    "    Dense(units=8, activation=\"relu\", name=\"h2\"),\n",
    "    Dense(units=1, activation=\"linear\", name=\"output\")\n",
    "\n",
    "])"
   ]
  },
  {
   "cell_type": "markdown",
   "metadata": {},
   "source": [
    "Next, to prepare the model for training, you must configure the learning process. This is done using the compile method. The compile method takes three arguments:\n",
    "\n",
    "* An optimizer. This could be the string identifier of an existing optimizer (such as `rmsprop` or `adagrad`), or an instance of the [Optimizer class](https://www.tensorflow.org/versions/r2.0/api_docs/python/tf/keras/optimizers).\n",
    "* A loss function. This is the objective that the model will try to minimize. It can be the string identifier of an existing loss function from the [Losses class](https://www.tensorflow.org/versions/r2.0/api_docs/python/tf/keras/losses) (such as categorical_crossentropy or mse), or it can be a custom objective function.\n",
    "* A list of metrics. For any machine learning problem you will want a set of metrics to evaluate your model. A metric could be the string identifier of an existing metric or a custom metric function.\n",
    "\n",
    "We will add an additional custom metric called `rmse` to our list of metrics which will return the root mean square error. "
   ]
  },
  {
   "cell_type": "markdown",
   "metadata": {},
   "source": [
    "**Lab Task #2b:** Compile the model you created above. Create a custom loss function called `rmse` which computes the root mean squared error between `y_true` and `y_pred`. Pass this function to the model as an evaluation metric. "
   ]
  },
  {
   "cell_type": "code",
   "execution_count": 115,
   "metadata": {},
   "outputs": [],
   "source": [
    "# TODO 2b\n",
    "# Create a custom evalution metric\n",
    "def rmse(y_true, y_pred):\n",
    "    return tf.sqrt(tf.reduce_mean((y_true-y_pred)**2))\n",
    "\n",
    "\n",
    "# Compile the keras model\n",
    "# TODO -- Your code here.\n",
    "model.compile(optimizer='rmsprop', loss='mse', metrics=['mse', rmse])"
   ]
  },
  {
   "cell_type": "markdown",
   "metadata": {},
   "source": [
    "## Train the model\n",
    "\n",
    "To train your model, Keras provides three functions that can be used:\n",
    " 1. `.fit()` for training a model for a fixed number of epochs (iterations on a dataset).\n",
    " 2. `.fit_generator()` for training a model on data yielded batch-by-batch by a generator\n",
    " 3. `.train_on_batch()` runs a single gradient update on a single batch of data. \n",
    " \n",
    "The `.fit()` function works well for small datasets which can fit entirely in memory. However, for large datasets (or if you need to manipulate the training data on the fly via data augmentation, etc) you will need to use `.fit_generator()` instead. The `.train_on_batch()` method is for more fine-grained control over training and accepts only a single batch of data.\n",
    "\n",
    "The taxifare dataset we sampled is small enough to fit in memory, so can we could use `.fit` to train our model. Our `create_dataset` function above generates batches of training examples, so we could also use `.fit_generator`. In fact, when calling `.fit` the method inspects the data, and if it's a generator (as our dataset is) it will invoke automatically `.fit_generator` for training. \n",
    "\n",
    "We start by setting up some parameters for our training job and create the data generators for the training and validation data.\n",
    "\n",
    "We refer you the the blog post [ML Design Pattern #3: Virtual Epochs](https://medium.com/google-cloud/ml-design-pattern-3-virtual-epochs-f842296de730) for further details on why express the training in terms of `NUM_TRAIN_EXAMPLES` and `NUM_EVALS` and why, in this training code, the number of epochs is really equal to the number of evaluations we perform."
   ]
  },
  {
   "cell_type": "code",
   "execution_count": 116,
   "metadata": {},
   "outputs": [],
   "source": [
    "TRAIN_BATCH_SIZE = 1000\n",
    "NUM_TRAIN_EXAMPLES = 10000 * 5  # training dataset will repeat, wrap around\n",
    "NUM_EVALS = 50  # how many times to evaluate\n",
    "NUM_EVAL_EXAMPLES = 10000  # enough to get a reasonable sample\n",
    "\n",
    "trainds = create_dataset(\n",
    "    pattern='../data/taxi-train*',\n",
    "    batch_size=TRAIN_BATCH_SIZE,\n",
    "    mode='train')\n",
    "\n",
    "evalds = create_dataset(\n",
    "    pattern='../data/taxi-valid*',\n",
    "    batch_size=1000,\n",
    "    mode='eval').take(NUM_EVAL_EXAMPLES//1000)"
   ]
  },
  {
   "cell_type": "markdown",
   "metadata": {},
   "source": [
    "There are various arguments you can set when calling the [.fit method](https://www.tensorflow.org/versions/r2.0/api_docs/python/tf/keras/Model#fit). Here `x` specifies the input data which in our case is a `tf.data` dataset returning a tuple of (inputs, targets). The `steps_per_epoch` parameter is used to mark the end of training for a single epoch. Here we are training for NUM_EVALS epochs. Lastly, for the `callback` argument we specify a Tensorboard callback so we can inspect Tensorboard after training. "
   ]
  },
  {
   "cell_type": "markdown",
   "metadata": {},
   "source": [
    "**Lab Task #3:** In the cell below, you will train your model. First, define the `steps_per_epoch` then train your model using `.fit()`, saving the model training output to a variable called `history`."
   ]
  },
  {
   "cell_type": "code",
   "execution_count": 117,
   "metadata": {},
   "outputs": [
    {
     "name": "stdout",
     "output_type": "stream",
     "text": [
      "CPU times: user 2 µs, sys: 1e+03 ns, total: 3 µs\n",
      "Wall time: 7.15 µs\n",
      "1\n",
      "Train for 1 steps, validate for 10 steps\n",
      "Epoch 1/50\n",
      "1/1 [==============================] - 16s 16s/step - loss: 190.9392 - mse: 190.9392 - rmse: 13.8181 - val_loss: 189.2759 - val_mse: 189.2759 - val_rmse: 13.7483\n",
      "Epoch 2/50\n",
      "WARNING:tensorflow:Method (on_train_batch_end) is slow compared to the batch update (0.563858). Check your callbacks.\n",
      "1/1 [==============================] - 1s 986ms/step - loss: 169.2157 - mse: 169.2157 - rmse: 13.0083 - val_loss: 166.9873 - val_mse: 166.9872 - val_rmse: 12.9141\n",
      "Epoch 3/50\n",
      "1/1 [==============================] - 1s 507ms/step - loss: 172.9805 - mse: 172.9805 - rmse: 13.1522 - val_loss: 156.1986 - val_mse: 156.1986 - val_rmse: 12.4938\n",
      "Epoch 4/50\n",
      "1/1 [==============================] - 1s 564ms/step - loss: 141.4506 - mse: 141.4506 - rmse: 11.8933 - val_loss: 144.5197 - val_mse: 144.5197 - val_rmse: 12.0075\n",
      "Epoch 5/50\n",
      "1/1 [==============================] - 0s 471ms/step - loss: 125.4899 - mse: 125.4899 - rmse: 11.2022 - val_loss: 141.0769 - val_mse: 141.0769 - val_rmse: 11.8654\n",
      "Epoch 6/50\n",
      "1/1 [==============================] - 0s 438ms/step - loss: 146.0427 - mse: 146.0427 - rmse: 12.0848 - val_loss: 134.5930 - val_mse: 134.5930 - val_rmse: 11.5743\n",
      "Epoch 7/50\n",
      "1/1 [==============================] - 0s 430ms/step - loss: 120.2960 - mse: 120.2960 - rmse: 10.9680 - val_loss: 130.4945 - val_mse: 130.4945 - val_rmse: 11.4080\n",
      "Epoch 8/50\n",
      "1/1 [==============================] - 0s 453ms/step - loss: 94.3141 - mse: 94.3141 - rmse: 9.7115 - val_loss: 127.0332 - val_mse: 127.0332 - val_rmse: 11.2398\n",
      "Epoch 9/50\n",
      "1/1 [==============================] - 0s 438ms/step - loss: 112.5395 - mse: 112.5395 - rmse: 10.6085 - val_loss: 123.8529 - val_mse: 123.8529 - val_rmse: 11.1140\n",
      "Epoch 10/50\n",
      "1/1 [==============================] - 1s 513ms/step - loss: 141.2731 - mse: 141.2731 - rmse: 11.8858 - val_loss: 121.3084 - val_mse: 121.3084 - val_rmse: 11.0062\n",
      "Epoch 11/50\n",
      "1/1 [==============================] - 1s 534ms/step - loss: 84.9157 - mse: 84.9157 - rmse: 9.2150 - val_loss: 121.4286 - val_mse: 121.4286 - val_rmse: 10.9837\n",
      "Epoch 12/50\n",
      "1/1 [==============================] - 0s 351ms/step - loss: 94.3829 - mse: 94.3829 - rmse: 9.7151 - val_loss: 119.5932 - val_mse: 119.5932 - val_rmse: 10.9095\n",
      "Epoch 13/50\n",
      "1/1 [==============================] - 0s 409ms/step - loss: 102.9712 - mse: 102.9712 - rmse: 10.1475 - val_loss: 117.7339 - val_mse: 117.7339 - val_rmse: 10.8184\n",
      "Epoch 14/50\n",
      "1/1 [==============================] - 0s 422ms/step - loss: 71.3095 - mse: 71.3095 - rmse: 8.4445 - val_loss: 116.6858 - val_mse: 116.6858 - val_rmse: 10.7855\n",
      "Epoch 15/50\n",
      "1/1 [==============================] - 0s 318ms/step - loss: 87.5339 - mse: 87.5339 - rmse: 9.3560 - val_loss: 115.0542 - val_mse: 115.0542 - val_rmse: 10.7103\n",
      "Epoch 16/50\n",
      "1/1 [==============================] - 0s 317ms/step - loss: 91.8657 - mse: 91.8657 - rmse: 9.5847 - val_loss: 116.0907 - val_mse: 116.0907 - val_rmse: 10.7609\n",
      "Epoch 17/50\n",
      "1/1 [==============================] - 0s 435ms/step - loss: 79.4491 - mse: 79.4491 - rmse: 8.9134 - val_loss: 114.2833 - val_mse: 114.2833 - val_rmse: 10.6749\n",
      "Epoch 18/50\n",
      "1/1 [==============================] - 0s 388ms/step - loss: 81.5790 - mse: 81.5790 - rmse: 9.0321 - val_loss: 113.8939 - val_mse: 113.8940 - val_rmse: 10.6612\n",
      "Epoch 19/50\n",
      "1/1 [==============================] - 0s 439ms/step - loss: 65.5419 - mse: 65.5419 - rmse: 8.0958 - val_loss: 113.1502 - val_mse: 113.1502 - val_rmse: 10.6194\n",
      "Epoch 20/50\n",
      "1/1 [==============================] - 1s 536ms/step - loss: 85.7316 - mse: 85.7316 - rmse: 9.2591 - val_loss: 112.1788 - val_mse: 112.1788 - val_rmse: 10.5857\n",
      "Epoch 21/50\n",
      "1/1 [==============================] - 0s 437ms/step - loss: 104.4476 - mse: 104.4476 - rmse: 10.2200 - val_loss: 112.3668 - val_mse: 112.3668 - val_rmse: 10.5983\n",
      "Epoch 22/50\n",
      "1/1 [==============================] - 1s 561ms/step - loss: 87.2663 - mse: 87.2663 - rmse: 9.3416 - val_loss: 110.1896 - val_mse: 110.1896 - val_rmse: 10.4700\n",
      "Epoch 23/50\n",
      "1/1 [==============================] - 0s 415ms/step - loss: 93.9177 - mse: 93.9177 - rmse: 9.6911 - val_loss: 110.6014 - val_mse: 110.6014 - val_rmse: 10.5090\n",
      "Epoch 24/50\n",
      "1/1 [==============================] - 0s 444ms/step - loss: 95.7699 - mse: 95.7699 - rmse: 9.7862 - val_loss: 110.5432 - val_mse: 110.5432 - val_rmse: 10.5027\n",
      "Epoch 25/50\n",
      "1/1 [==============================] - 0s 368ms/step - loss: 89.8910 - mse: 89.8910 - rmse: 9.4811 - val_loss: 109.2635 - val_mse: 109.2635 - val_rmse: 10.4319\n",
      "Epoch 26/50\n",
      "1/1 [==============================] - 0s 403ms/step - loss: 89.9732 - mse: 89.9732 - rmse: 9.4854 - val_loss: 111.3354 - val_mse: 111.3354 - val_rmse: 10.5349\n",
      "Epoch 27/50\n",
      "1/1 [==============================] - 0s 471ms/step - loss: 122.3236 - mse: 122.3236 - rmse: 11.0600 - val_loss: 111.5915 - val_mse: 111.5915 - val_rmse: 10.5562\n",
      "Epoch 28/50\n",
      "1/1 [==============================] - 1s 546ms/step - loss: 109.1775 - mse: 109.1775 - rmse: 10.4488 - val_loss: 110.6194 - val_mse: 110.6194 - val_rmse: 10.5086\n",
      "Epoch 29/50\n",
      "1/1 [==============================] - 1s 515ms/step - loss: 83.0758 - mse: 83.0758 - rmse: 9.1146 - val_loss: 109.0667 - val_mse: 109.0667 - val_rmse: 10.4159\n",
      "Epoch 30/50\n",
      "1/1 [==============================] - 0s 431ms/step - loss: 82.2788 - mse: 82.2788 - rmse: 9.0708 - val_loss: 111.7909 - val_mse: 111.7909 - val_rmse: 10.5491\n",
      "Epoch 31/50\n",
      "1/1 [==============================] - 1s 516ms/step - loss: 92.1846 - mse: 92.1846 - rmse: 9.6013 - val_loss: 110.5142 - val_mse: 110.5142 - val_rmse: 10.4814\n",
      "Epoch 32/50\n",
      "1/1 [==============================] - 1s 547ms/step - loss: 114.1585 - mse: 114.1585 - rmse: 10.6845 - val_loss: 111.3582 - val_mse: 111.3582 - val_rmse: 10.5445\n",
      "Epoch 33/50\n",
      "1/1 [==============================] - 1s 600ms/step - loss: 85.5753 - mse: 85.5753 - rmse: 9.2507 - val_loss: 109.9642 - val_mse: 109.9642 - val_rmse: 10.4650\n",
      "Epoch 34/50\n",
      "1/1 [==============================] - 0s 468ms/step - loss: 93.5326 - mse: 93.5326 - rmse: 9.6712 - val_loss: 110.7806 - val_mse: 110.7806 - val_rmse: 10.5112\n",
      "Epoch 35/50\n",
      "1/1 [==============================] - 0s 486ms/step - loss: 87.9652 - mse: 87.9652 - rmse: 9.3790 - val_loss: 111.3406 - val_mse: 111.3406 - val_rmse: 10.5428\n",
      "Epoch 36/50\n",
      "1/1 [==============================] - 0s 371ms/step - loss: 76.1857 - mse: 76.1857 - rmse: 8.7284 - val_loss: 112.4961 - val_mse: 112.4961 - val_rmse: 10.5856\n",
      "Epoch 37/50\n",
      "1/1 [==============================] - 0s 449ms/step - loss: 98.0176 - mse: 98.0176 - rmse: 9.9004 - val_loss: 109.6273 - val_mse: 109.6273 - val_rmse: 10.4632\n",
      "Epoch 38/50\n",
      "1/1 [==============================] - 0s 489ms/step - loss: 82.8627 - mse: 82.8627 - rmse: 9.1029 - val_loss: 109.3764 - val_mse: 109.3764 - val_rmse: 10.4433\n",
      "Epoch 39/50\n",
      "1/1 [==============================] - 0s 423ms/step - loss: 83.0837 - mse: 83.0837 - rmse: 9.1150 - val_loss: 111.9139 - val_mse: 111.9139 - val_rmse: 10.5572\n",
      "Epoch 40/50\n",
      "1/1 [==============================] - 0s 412ms/step - loss: 110.9222 - mse: 110.9222 - rmse: 10.5320 - val_loss: 110.5214 - val_mse: 110.5214 - val_rmse: 10.5100\n",
      "Epoch 41/50\n",
      "1/1 [==============================] - 0s 405ms/step - loss: 90.5417 - mse: 90.5417 - rmse: 9.5153 - val_loss: 112.5697 - val_mse: 112.5697 - val_rmse: 10.5936\n",
      "Epoch 42/50\n",
      "1/1 [==============================] - 0s 467ms/step - loss: 88.3375 - mse: 88.3375 - rmse: 9.3988 - val_loss: 109.9269 - val_mse: 109.9269 - val_rmse: 10.4581\n",
      "Epoch 43/50\n",
      "1/1 [==============================] - 0s 325ms/step - loss: 85.7375 - mse: 85.7375 - rmse: 9.2595 - val_loss: 109.0637 - val_mse: 109.0637 - val_rmse: 10.4307\n",
      "Epoch 44/50\n",
      "1/1 [==============================] - 0s 461ms/step - loss: 90.1185 - mse: 90.1185 - rmse: 9.4931 - val_loss: 109.7603 - val_mse: 109.7603 - val_rmse: 10.4599\n",
      "Epoch 45/50\n",
      "1/1 [==============================] - 0s 469ms/step - loss: 127.5377 - mse: 127.5377 - rmse: 11.2933 - val_loss: 109.5338 - val_mse: 109.5338 - val_rmse: 10.4558\n",
      "Epoch 46/50\n",
      "1/1 [==============================] - 0s 398ms/step - loss: 87.1602 - mse: 87.1602 - rmse: 9.3360 - val_loss: 110.4964 - val_mse: 110.4964 - val_rmse: 10.5044\n",
      "Epoch 47/50\n",
      "1/1 [==============================] - 0s 457ms/step - loss: 104.4809 - mse: 104.4809 - rmse: 10.2216 - val_loss: 107.9726 - val_mse: 107.9726 - val_rmse: 10.3812\n",
      "Epoch 48/50\n",
      "1/1 [==============================] - 0s 496ms/step - loss: 98.5349 - mse: 98.5349 - rmse: 9.9265 - val_loss: 111.8005 - val_mse: 111.8005 - val_rmse: 10.5492\n",
      "Epoch 49/50\n",
      "1/1 [==============================] - 0s 401ms/step - loss: 127.7442 - mse: 127.7442 - rmse: 11.3024 - val_loss: 110.2309 - val_mse: 110.2309 - val_rmse: 10.4809\n",
      "Epoch 50/50\n",
      "1/1 [==============================] - 1s 585ms/step - loss: 93.2717 - mse: 93.2717 - rmse: 9.6577 - val_loss: 109.5667 - val_mse: 109.5667 - val_rmse: 10.4582\n"
     ]
    }
   ],
   "source": [
    "# TODO 3\n",
    "%time \n",
    "steps_per_epoch = NUM_TRAIN_EXAMPLES // (TRAIN_BATCH_SIZE*NUM_EVALS)\n",
    "print(steps_per_epoch)\n",
    "\n",
    "LOGDIR = \"./taxi_trained\"\n",
    "history = model.fit(trainds\n",
    "                    , epochs=NUM_EVALS\n",
    "                    , validation_data=evalds\n",
    "                    , steps_per_epoch=steps_per_epoch\n",
    "                    , callbacks=[TensorBoard(LOGDIR)])"
   ]
  },
  {
   "cell_type": "markdown",
   "metadata": {},
   "source": [
    "### High-level model evaluation\n",
    "\n",
    "Once we've run data through the model, we can call `.summary()` on the model to get a high-level summary of our network. We can also plot the training and evaluation curves for the metrics we computed above. "
   ]
  },
  {
   "cell_type": "code",
   "execution_count": 118,
   "metadata": {},
   "outputs": [
    {
     "name": "stdout",
     "output_type": "stream",
     "text": [
      "Model: \"sequential_2\"\n",
      "_________________________________________________________________\n",
      "Layer (type)                 Output Shape              Param #   \n",
      "=================================================================\n",
      "dense_features_7 (DenseFeatu multiple                  0         \n",
      "_________________________________________________________________\n",
      "h1 (Dense)                   multiple                  192       \n",
      "_________________________________________________________________\n",
      "h2 (Dense)                   multiple                  264       \n",
      "_________________________________________________________________\n",
      "output (Dense)               multiple                  9         \n",
      "=================================================================\n",
      "Total params: 465\n",
      "Trainable params: 465\n",
      "Non-trainable params: 0\n",
      "_________________________________________________________________\n"
     ]
    }
   ],
   "source": [
    "model.summary()"
   ]
  },
  {
   "cell_type": "markdown",
   "metadata": {},
   "source": [
    "Running `.fit` (or `.fit_generator`) returns a History object which collects all the events recorded during training. Similar to Tensorboard, we can plot the training and validation curves for the model loss and rmse by accessing these elements of the History object."
   ]
  },
  {
   "cell_type": "code",
   "execution_count": 119,
   "metadata": {},
   "outputs": [
    {
     "data": {
      "text/plain": [
       "<AxesSubplot:>"
      ]
     },
     "execution_count": 119,
     "metadata": {},
     "output_type": "execute_result"
    },
    {
     "data": {
      "image/png": "[encoded data removed]",
      "text/plain": [
       "<Figure size 432x288 with 1 Axes>"
      ]
     },
     "metadata": {
      "needs_background": "light"
     },
     "output_type": "display_data"
    }
   ],
   "source": [
    "RMSE_COLS = ['rmse', 'val_rmse']\n",
    "\n",
    "pd.DataFrame(history.history)[RMSE_COLS].plot()"
   ]
  },
  {
   "cell_type": "code",
   "execution_count": 120,
   "metadata": {},
   "outputs": [
    {
     "data": {
      "text/plain": [
       "<AxesSubplot:>"
      ]
     },
     "execution_count": 120,
     "metadata": {},
     "output_type": "execute_result"
    },
    {
     "data": {
      "image/png": "[encoded data removed]",
      "text/plain": [
       "<Figure size 432x288 with 1 Axes>"
      ]
     },
     "metadata": {
      "needs_background": "light"
     },
     "output_type": "display_data"
    }
   ],
   "source": [
    "LOSS_COLS = ['loss', 'val_loss']\n",
    "\n",
    "pd.DataFrame(history.history)[LOSS_COLS].plot()"
   ]
  },
  {
   "cell_type": "markdown",
   "metadata": {},
   "source": [
    "# Making predictions with our model\n",
    "\n",
    "To make predictions with our trained model, we can call the [predict method](https://www.tensorflow.org/api_docs/python/tf/keras/Model#predict), passing to it a dictionary of values. The `steps` parameter determines the total number of steps before declaring the prediction round finished. Here since we have just one example, we set `steps=1` (setting `steps=None` would also work). Note, however, that if x is a `tf.data` dataset or a dataset iterator, and steps is set to None, predict will run until the input dataset is exhausted."
   ]
  },
  {
   "cell_type": "code",
   "execution_count": 121,
   "metadata": {},
   "outputs": [
    {
     "data": {
      "text/plain": [
       "array([[11.238727]], dtype=float32)"
      ]
     },
     "execution_count": 121,
     "metadata": {},
     "output_type": "execute_result"
    }
   ],
   "source": [
    "model.predict(x={\"pickup_longitude\": tf.convert_to_tensor([-73.982683]),\n",
    "                 \"pickup_latitude\": tf.convert_to_tensor([40.742104]),\n",
    "                 \"dropoff_longitude\": tf.convert_to_tensor([-73.983766]),\n",
    "                 \"dropoff_latitude\": tf.convert_to_tensor([40.755174]),\n",
    "                 \"passenger_count\": tf.convert_to_tensor([3.0])},\n",
    "              steps=1)"
   ]
  },
  {
   "cell_type": "markdown",
   "metadata": {},
   "source": [
    "# Export and deploy our model\n",
    "\n",
    "Of course, making individual predictions is not realistic, because we can't expect client code to have a model object in memory. For others to use our trained model, we'll have to export our model to a file, and expect client code to instantiate the model from that exported file. \n",
    "\n",
    "We'll export the model to a TensorFlow SavedModel format. Once we have a model in this format, we have lots of ways to \"serve\" the model, from a web application, from JavaScript, from mobile applications, etc."
   ]
  },
  {
   "cell_type": "markdown",
   "metadata": {},
   "source": [
    "**Lab Task #4:** Use `tf.saved_model.save` to export the trained model to a Tensorflow SavedModel format. Reference the [documentation for `tf.saved_model.save`](https://www.tensorflow.org/api_docs/python/tf/saved_model/save) as you fill in the code for the cell below.\n",
    "\n",
    "Next, print the signature of your saved model using the SavedModel Command Line Interface command `saved_model_cli`. You can read more about the command line interface and the `show` and `run` commands it supports in the [documentation here](https://www.tensorflow.org/guide/saved_model#overview_of_commands). "
   ]
  },
  {
   "cell_type": "code",
   "execution_count": 122,
   "metadata": {},
   "outputs": [
    {
     "name": "stdout",
     "output_type": "stream",
     "text": [
      "INFO:tensorflow:Assets written to: ./export/savedmodel/20210526233446/assets\n"
     ]
    }
   ],
   "source": [
    "# TODO 4a\n",
    "OUTPUT_DIR = \"./export/savedmodel\"\n",
    "shutil.rmtree(OUTPUT_DIR, ignore_errors=True)\n",
    "EXPORT_PATH = os.path.join(OUTPUT_DIR,\n",
    "                           datetime.datetime.now().strftime(\"%Y%m%d%H%M%S\"))\n",
    "\n",
    "tf.saved_model.save(model, export_dir=EXPORT_PATH)"
   ]
  },
  {
   "cell_type": "code",
   "execution_count": 123,
   "metadata": {},
   "outputs": [
    {
     "name": "stdout",
     "output_type": "stream",
     "text": [
      "Wed May 26 23:34:46 UTC 2021\n",
      "total 12\n",
      "drwxr-xr-x 3 jupyter jupyter 4096 May 26 23:34 .\n",
      "drwxr-xr-x 3 jupyter jupyter 4096 May 26 23:34 ..\n",
      "drwxr-xr-x 4 jupyter jupyter 4096 May 26 23:34 20210526233446\n",
      "2021-05-26 23:34:47.388902: W tensorflow/stream_executor/platform/default/dso_loader.cc:59] Could not load dynamic library 'libcudart.so.10.1'; dlerror: libcudart.so.10.1: cannot open shared object file: No such file or directory; LD_LIBRARY_PATH: /usr/local/cuda/lib64:/usr/local/nccl2/lib:/usr/local/cuda/extras/CUPTI/lib64\n",
      "2021-05-26 23:34:47.388952: I tensorflow/stream_executor/cuda/cudart_stub.cc:29] Ignore above cudart dlerror if you do not have a GPU set up on your machine.\n",
      "usage: saved_model_cli [-h] [-v] {show,run,scan,convert,aot_compile_cpu} ...\n",
      "\n",
      "saved_model_cli: Command-line interface for SavedModel\n",
      "\n",
      "optional arguments:\n",
      "  -h, --help            show this help message and exit\n",
      "  -v, --version         show program's version number and exit\n",
      "\n",
      "commands:\n",
      "  valid commands\n",
      "\n",
      "  {show,run,scan,convert,aot_compile_cpu}\n",
      "                        additional help\n"
     ]
    }
   ],
   "source": [
    "!date\n",
    "!ls -al ./export/savedmodel\n",
    "!saved_model_cli --help"
   ]
  },
  {
   "cell_type": "code",
   "execution_count": 124,
   "metadata": {},
   "outputs": [
    {
     "name": "stdout",
     "output_type": "stream",
     "text": [
      "2021-05-26 23:34:50.174868: W tensorflow/stream_executor/platform/default/dso_loader.cc:59] Could not load dynamic library 'libcudart.so.10.1'; dlerror: libcudart.so.10.1: cannot open shared object file: No such file or directory; LD_LIBRARY_PATH: /usr/local/cuda/lib64:/usr/local/nccl2/lib:/usr/local/cuda/extras/CUPTI/lib64\n",
      "2021-05-26 23:34:50.175070: I tensorflow/stream_executor/cuda/cudart_stub.cc:29] Ignore above cudart dlerror if you do not have a GPU set up on your machine.\n",
      "The given SavedModel SignatureDef contains the following input(s):\n",
      "  inputs['dropoff_latitude'] tensor_info:\n",
      "      dtype: DT_FLOAT\n",
      "      shape: (-1, 1)\n",
      "      name: serving_default_dropoff_latitude:0\n",
      "  inputs['dropoff_longitude'] tensor_info:\n",
      "      dtype: DT_FLOAT\n",
      "      shape: (-1, 1)\n",
      "      name: serving_default_dropoff_longitude:0\n",
      "  inputs['passenger_count'] tensor_info:\n",
      "      dtype: DT_FLOAT\n",
      "      shape: (-1, 1)\n",
      "      name: serving_default_passenger_count:0\n",
      "  inputs['pickup_latitude'] tensor_info:\n",
      "      dtype: DT_FLOAT\n",
      "      shape: (-1, 1)\n",
      "      name: serving_default_pickup_latitude:0\n",
      "  inputs['pickup_longitude'] tensor_info:\n",
      "      dtype: DT_FLOAT\n",
      "      shape: (-1, 1)\n",
      "      name: serving_default_pickup_longitude:0\n",
      "The given SavedModel SignatureDef contains the following output(s):\n",
      "  outputs['output_1'] tensor_info:\n",
      "      dtype: DT_FLOAT\n",
      "      shape: (-1, 1)\n",
      "      name: StatefulPartitionedCall:0\n",
      "Method name is: tensorflow/serving/predict\n",
      "./export/savedmodel/20210526233446\n",
      "./export/savedmodel/20210526233446/assets\n",
      "./export/savedmodel/20210526233446/saved_model.pb\n",
      "./export/savedmodel/20210526233446/variables\n",
      "./export/savedmodel/20210526233446/variables/variables.data-00000-of-00001\n",
      "./export/savedmodel/20210526233446/variables/variables.index\n"
     ]
    }
   ],
   "source": [
    "# TODO 4b\n",
    "!saved_model_cli show \\\n",
    " --tag_set serve \\\n",
    " --signature_def serving_default \\\n",
    " --dir {EXPORT_PATH}\n",
    "\n",
    "!find {EXPORT_PATH}\n",
    "os.environ['EXPORT_PATH'] = EXPORT_PATH"
   ]
  },
  {
   "cell_type": "markdown",
   "metadata": {},
   "source": [
    "### Deploy our model to AI Platform\n",
    "\n",
    "Finally, we will deploy our trained model to AI Platform and see how we can make online predicitons. "
   ]
  },
  {
   "cell_type": "markdown",
   "metadata": {},
   "source": [
    "**Lab Task #5a:** Complete the code in the cell below to deploy your trained model to AI Platform using the `gcloud ai-platform versions create` command. Have a look at [the documentation for how to create model version with gcloud](https://cloud.google.com/sdk/gcloud/reference/ai-platform/versions/create)."
   ]
  },
  {
   "cell_type": "code",
   "execution_count": 125,
   "metadata": {},
   "outputs": [
    {
     "name": "stderr",
     "output_type": "stream",
     "text": [
      "Updated property [compute/region].\n",
      "Updated property [ai_platform/region].\n"
     ]
    }
   ],
   "source": [
    "%%bash\n",
    "gcloud config set compute/region us-east1\n",
    "gcloud config set ai_platform/region global\n"
   ]
  },
  {
   "cell_type": "markdown",
   "metadata": {},
   "source": [
    "**Below cell will take around 10 minutes to complete.**"
   ]
  },
  {
   "cell_type": "code",
   "execution_count": 126,
   "metadata": {},
   "outputs": [
    {
     "name": "stdout",
     "output_type": "stream",
     "text": [
      "Bucket exists, let's not recreate it.\n",
      "taxifare already exists\n",
      "Deleting already existing taxifare:dnn1 ... \n",
      "Please run this cell again if you don't see a Creating message ... \n",
      "Creating taxifare:dnn1\n"
     ]
    },
    {
     "name": "stderr",
     "output_type": "stream",
     "text": [
      "Using endpoint [https://us-east1-ml.googleapis.com/]\n",
      "Using endpoint [https://us-east1-ml.googleapis.com/]\n",
      "Using endpoint [https://us-east1-ml.googleapis.com/]\n",
      "This will delete version [dnn1]...\n",
      "\n",
      "Do you want to continue (Y/n)?  \n",
      "Deleting version [dnn1]......\n",
      "..................................................................................done.\n",
      "Using endpoint [https://us-east1-ml.googleapis.com/]\n",
      "Creating version (this might take a few minutes)......\n",
      "....................................................................................................................................................................................................................................................................................................................................................................................................................................................................................................................................................done.\n"
     ]
    }
   ],
   "source": [
    "%%bash\n",
    "\n",
    "# TODO 5a\n",
    "\n",
    "PROJECT=\"qwiklabs-gcp-00-0db9b1bc58c6\"\n",
    "BUCKET=${PROJECT}\n",
    "REGION=us-east1\n",
    "MODEL_NAME=taxifare\n",
    "VERSION_NAME=dnn1\n",
    "\n",
    "## Create GCS bucket if it doesn't exist already...\n",
    "exists=$(gsutil ls -d | grep -w gs://${BUCKET}/)\n",
    "\n",
    "if [ -n \"$exists\" ]; then\n",
    "    echo -e \"Bucket exists, let's not recreate it.\"\n",
    "else\n",
    "    echo \"Creating a new GCS bucket.\"\n",
    "    gsutil mb -l ${REGION} gs://${BUCKET}\n",
    "    echo \"Here are your current buckets:\"\n",
    "    gsutil ls\n",
    "fi\n",
    "\n",
    "if [[ $(gcloud ai-platform models list --format='value(name)' --region=$REGION | grep $MODEL_NAME) ]]; then\n",
    "    echo \"$MODEL_NAME already exists\"\n",
    "else\n",
    "    echo \"Creating $MODEL_NAME\"\n",
    "    gcloud ai-platform models create --region=$REGION $MODEL_NAME\n",
    "fi\n",
    "\n",
    "if [[ $(gcloud ai-platform versions list --model $MODEL_NAME --region=$REGION --format='value(name)' | grep $VERSION_NAME) ]]; then\n",
    "    echo \"Deleting already existing $MODEL_NAME:$VERSION_NAME ... \"\n",
    "    echo yes | gcloud ai-platform versions delete --model=$MODEL_NAME $VERSION_NAME --region=$REGION\n",
    "    echo \"Please run this cell again if you don't see a Creating message ... \"\n",
    "    sleep 2\n",
    "fi\n",
    "\n",
    "echo \"Creating $MODEL_NAME:$VERSION_NAME\"\n",
    "gcloud ai-platform versions create \\\n",
    "    --model=taxifare $VERSION_NAME \\\n",
    "    --framework=tensorflow \\\n",
    "    --python-version=3.7 \\\n",
    "    --runtime-version=2.1 \\\n",
    "    --origin=$EXPORT_PATH \\\n",
    "    --staging-bucket=gs://$BUCKET \\\n",
    "    --region=$REGION"
   ]
  },
  {
   "cell_type": "code",
   "execution_count": 127,
   "metadata": {},
   "outputs": [
    {
     "name": "stdout",
     "output_type": "stream",
     "text": [
      "Overwriting input.json\n"
     ]
    }
   ],
   "source": [
    "%%writefile input.json\n",
    "{\"pickup_longitude\": -73.982683, \"pickup_latitude\": 40.742104,\"dropoff_longitude\": -73.983766,\"dropoff_latitude\": 40.755174,\"passenger_count\": 3.0}  "
   ]
  },
  {
   "cell_type": "markdown",
   "metadata": {},
   "source": [
    "**Lab Task #5b:** Complete the code in the cell below to call prediction on your deployed model for the example you just created in the `input.json` file above."
   ]
  },
  {
   "cell_type": "code",
   "execution_count": 141,
   "metadata": {},
   "outputs": [
    {
     "name": "stdout",
     "output_type": "stream",
     "text": [
      "taxifare, us-east1, dnn1\n"
     ]
    }
   ],
   "source": [
    "%%bash\n",
    "\n",
    "# TODO 5a\n",
    "\n",
    "PROJECT=\"qwiklabs-gcp-00-0db9b1bc58c6\"\n",
    "BUCKET=${PROJECT}\n",
    "REGION=us-east1\n",
    "MODEL_NAME=taxifare\n",
    "VERSION_NAME=dnn1\n",
    "echo $MODEL_NAME, $REGION, $VERSION_NAME"
   ]
  },
  {
   "cell_type": "code",
   "execution_count": 149,
   "metadata": {},
   "outputs": [
    {
     "name": "stdout",
     "output_type": "stream",
     "text": [
      "taxifare, us-east1, dnn1\n",
      "Using endpoint [https://us-east1-ml.googleapis.com/]\n",
      "[[11.2387266]]\n"
     ]
    }
   ],
   "source": [
    "os.environ['PROJECT'] = \"qwiklabs-gcp-00-0db9b1bc58c6\"\n",
    "os.environ['BUCKET'] = os.environ['PROJECT']\n",
    "os.environ['REGION'] = 'us-east1'\n",
    "os.environ['MODEL_NAME'] = 'taxifare'\n",
    "os.environ['VERSION_NAME'] = 'dnn1'\n",
    "\n",
    "!echo $MODEL_NAME, $REGION, $VERSION_NAME\n",
    "\n",
    "# TODO 5b\n",
    "!gcloud ai-platform predict \\\n",
    "    --model taxifare \\\n",
    "    --json-instances \"input.json\" \\\n",
    "    --version=dnn1 \\\n",
    "    --region=us-east1"
   ]
  },
  {
   "cell_type": "markdown",
   "metadata": {},
   "source": [
    "Copyright 2019 Google Inc. Licensed under the Apache License, Version 2.0 (the \"License\"); you may not use this file except in compliance with the License. You may obtain a copy of the License at http://www.apache.org/licenses/LICENSE-2.0 Unless required by applicable law or agreed to in writing, software distributed under the License is distributed on an \"AS IS\" BASIS, WITHOUT WARRANTIES OR CONDITIONS OF ANY KIND, either express or implied. See the License for the specific language governing permissions and limitations under the License"
   ]
  }
 ],
 "metadata": {
  "environment": {
   "name": "tf2-gpu.2-1.m69",
   "type": "gcloud",
   "uri": "gcr.io/deeplearning-platform-release/tf2-gpu.2-1:m69"
  },
  "kernelspec": {
   "display_name": "Python 3",
   "language": "python",
   "name": "python3"
  },
  "language_info": {
   "codemirror_mode": {
    "name": "ipython",
    "version": 3
   },
   "file_extension": ".py",
   "mimetype": "text/x-python",
   "name": "python",
   "nbconvert_exporter": "python",
   "pygments_lexer": "ipython3",
   "version": "3.7.10"
  }
 },
 "nbformat": 4,
 "nbformat_minor": 4
}
