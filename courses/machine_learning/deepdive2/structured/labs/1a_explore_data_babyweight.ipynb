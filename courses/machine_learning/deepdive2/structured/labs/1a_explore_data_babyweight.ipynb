{
 "cells": [
  {
   "cell_type": "markdown",
   "metadata": {},
   "source": [
    "# LAB 1a:  Exploring natality dataset.\n",
    "\n",
    "**Learning Objectives**\n",
    "\n",
    "1. Use BigQuery to explore natality dataset\n",
    "1. Use Cloud AI Platform Notebooks to plot data explorations\n",
    "\n",
    "\n",
    "## Introduction \n",
    "In this notebook, we will explore the natality dataset before we begin model development and training to predict the weight of a baby before it is born.  We will use BigQuery to explore the data and use Cloud AI Platform Notebooks to plot data explorations.\n",
    "\n",
    "Each learning objective will correspond to a __#TODO__ in this student lab notebook -- try to complete this notebook first and then review the [solution notebook](../solutions/1a_explore_data_babyweight.ipynb)."
   ]
  },
  {
   "cell_type": "markdown",
   "metadata": {
    "colab_type": "text",
    "id": "hJ7ByvoXzpVI"
   },
   "source": [
    "## Load necessary libraries"
   ]
  },
  {
   "cell_type": "markdown",
   "metadata": {
    "colab_type": "text",
    "id": "mC9K9Dpx1ztf"
   },
   "source": [
    "Check that the Google BigQuery library is installed and if not, install it. "
   ]
  },
  {
   "cell_type": "code",
   "execution_count": 1,
   "metadata": {
    "colab": {
     "base_uri": "https://localhost:8080/",
     "height": 609
    },
    "colab_type": "code",
    "id": "RZUQtASG10xO",
    "outputId": "5612d6b0-9730-476a-a28f-8fdc14f4ecde"
   },
   "outputs": [
    {
     "name": "stdout",
     "output_type": "stream",
     "text": [
      "Collecting google-cloud-bigquery==1.6.1\n",
      "  Downloading https://files.pythonhosted.org/packages/b7/1b/2b95f2fefddbbece38110712c225bfb5649206f4056445653bd5ca4dc86d/google_cloud_bigquery-1.6.1-py2.py3-none-any.whl (83kB)\n",
      "Collecting google-resumable-media>=0.2.1 (from google-cloud-bigquery==1.6.1)\n",
      "  Downloading https://files.pythonhosted.org/packages/f9/ad/bc80b0b33ccb5e21375ca1440da9dab99596948d5035e2f597fdcffb31f1/google_resumable_media-1.3.0-py2.py3-none-any.whl (75kB)\n",
      "Collecting google-api-core<2.0.0dev,>=1.0.0 (from google-cloud-bigquery==1.6.1)\n",
      "  Downloading https://files.pythonhosted.org/packages/44/6b/d6afbe4fa679a5f2060d515588d316bb8ac3535e02fe82e3085f70295b0c/google_api_core-1.28.0-py2.py3-none-any.whl (92kB)\n",
      "Collecting google-cloud-core<0.30dev,>=0.28.0 (from google-cloud-bigquery==1.6.1)\n",
      "  Downloading https://files.pythonhosted.org/packages/0c/f2/3c225e7a69cb27d283b68bff867722bd066bc1858611180197f711815ea5/google_cloud_core-0.29.1-py2.py3-none-any.whl\n",
      "Collecting six (from google-resumable-media>=0.2.1->google-cloud-bigquery==1.6.1)\n",
      "  Downloading https://files.pythonhosted.org/packages/d9/5a/e7c31adbe875f2abbb91bd84cf2dc52d792b5a01506781dbcf25c91daf11/six-1.16.0-py2.py3-none-any.whl\n",
      "Collecting google-crc32c<2.0dev,>=1.0; python_version >= \"3.5\" (from google-resumable-media>=0.2.1->google-cloud-bigquery==1.6.1)\n",
      "  Downloading https://files.pythonhosted.org/packages/95/88/edeaf3260740bad1e56e3a6f4f08a5f4a797ca64dcdc97da5596dc2e9350/google_crc32c-1.1.2-cp37-cp37m-manylinux1_x86_64.whl\n",
      "Collecting google-auth<2.0dev,>=1.25.0 (from google-api-core<2.0.0dev,>=1.0.0->google-cloud-bigquery==1.6.1)\n",
      "  Downloading https://files.pythonhosted.org/packages/35/d2/0a79bc7e201c1b38ce46d607eb9398dc362dff1b054c7bba8e4e195c2ed7/google_auth-1.30.1-py2.py3-none-any.whl (146kB)\n",
      "Collecting packaging>=14.3 (from google-api-core<2.0.0dev,>=1.0.0->google-cloud-bigquery==1.6.1)\n",
      "  Downloading https://files.pythonhosted.org/packages/3e/89/7ea760b4daa42653ece2380531c90f64788d979110a2ab51049d92f408af/packaging-20.9-py2.py3-none-any.whl (40kB)\n",
      "Collecting setuptools>=40.3.0 (from google-api-core<2.0.0dev,>=1.0.0->google-cloud-bigquery==1.6.1)\n",
      "  Downloading https://files.pythonhosted.org/packages/4e/78/56aa1b5f4d8ac548755ae767d84f0be54fdd9d404197a3d9e4659d272348/setuptools-57.0.0-py3-none-any.whl (821kB)\n",
      "Collecting requests<3.0.0dev,>=2.18.0 (from google-api-core<2.0.0dev,>=1.0.0->google-cloud-bigquery==1.6.1)\n",
      "  Downloading https://files.pythonhosted.org/packages/29/c1/24814557f1d22c56d50280771a17307e6bf87b70727d975fd6b2ce6b014a/requests-2.25.1-py2.py3-none-any.whl (61kB)\n",
      "Collecting googleapis-common-protos<2.0dev,>=1.6.0 (from google-api-core<2.0.0dev,>=1.0.0->google-cloud-bigquery==1.6.1)\n",
      "  Downloading https://files.pythonhosted.org/packages/55/08/796a6bc0b550e2b7116041c953d3d5100016abea106131d71e5651826e7b/googleapis_common_protos-1.53.0-py2.py3-none-any.whl (198kB)\n",
      "Collecting pytz (from google-api-core<2.0.0dev,>=1.0.0->google-cloud-bigquery==1.6.1)\n",
      "  Downloading https://files.pythonhosted.org/packages/70/94/784178ca5dd892a98f113cdd923372024dc04b8d40abe77ca76b5fb90ca6/pytz-2021.1-py2.py3-none-any.whl (510kB)\n",
      "Collecting protobuf>=3.12.0 (from google-api-core<2.0.0dev,>=1.0.0->google-cloud-bigquery==1.6.1)\n",
      "  Downloading https://files.pythonhosted.org/packages/bb/f8/07b65b1c3a2334208208b8161857fd9c19f69ab5d2c5314ef5f0b5f07aa5/protobuf-3.17.1-cp37-cp37m-manylinux_2_5_x86_64.manylinux1_x86_64.whl (1.0MB)\n",
      "Collecting cffi>=1.0.0 (from google-crc32c<2.0dev,>=1.0; python_version >= \"3.5\"->google-resumable-media>=0.2.1->google-cloud-bigquery==1.6.1)\n",
      "  Downloading https://files.pythonhosted.org/packages/97/2d/cd29c79f2eb1384577d0662f23c89d29621152f14bef8c6b25747785744b/cffi-1.14.5-cp37-cp37m-manylinux1_x86_64.whl (402kB)\n",
      "Collecting cachetools<5.0,>=2.0.0 (from google-auth<2.0dev,>=1.25.0->google-api-core<2.0.0dev,>=1.0.0->google-cloud-bigquery==1.6.1)\n",
      "  Downloading https://files.pythonhosted.org/packages/bf/28/c4f5796c67ad06bb91d98d543a5e01805c1ff065e08871f78e52d2a331ad/cachetools-4.2.2-py3-none-any.whl\n",
      "Collecting pyasn1-modules>=0.2.1 (from google-auth<2.0dev,>=1.25.0->google-api-core<2.0.0dev,>=1.0.0->google-cloud-bigquery==1.6.1)\n",
      "  Downloading https://files.pythonhosted.org/packages/95/de/214830a981892a3e286c3794f41ae67a4495df1108c3da8a9f62159b9a9d/pyasn1_modules-0.2.8-py2.py3-none-any.whl (155kB)\n",
      "Collecting rsa<5,>=3.1.4; python_version >= \"3.6\" (from google-auth<2.0dev,>=1.25.0->google-api-core<2.0.0dev,>=1.0.0->google-cloud-bigquery==1.6.1)\n",
      "  Downloading https://files.pythonhosted.org/packages/e9/93/0c0f002031f18b53af7a6166103c02b9c0667be528944137cc954ec921b3/rsa-4.7.2-py3-none-any.whl\n",
      "Collecting pyparsing>=2.0.2 (from packaging>=14.3->google-api-core<2.0.0dev,>=1.0.0->google-cloud-bigquery==1.6.1)\n",
      "  Downloading https://files.pythonhosted.org/packages/8a/bb/488841f56197b13700afd5658fc279a2025a39e22449b7cf29864669b15d/pyparsing-2.4.7-py2.py3-none-any.whl (67kB)\n",
      "Collecting chardet<5,>=3.0.2 (from requests<3.0.0dev,>=2.18.0->google-api-core<2.0.0dev,>=1.0.0->google-cloud-bigquery==1.6.1)\n",
      "  Downloading https://files.pythonhosted.org/packages/19/c7/fa589626997dd07bd87d9269342ccb74b1720384a4d739a1872bd84fbe68/chardet-4.0.0-py2.py3-none-any.whl (178kB)\n",
      "Collecting certifi>=2017.4.17 (from requests<3.0.0dev,>=2.18.0->google-api-core<2.0.0dev,>=1.0.0->google-cloud-bigquery==1.6.1)\n",
      "  Downloading https://files.pythonhosted.org/packages/05/1b/0a0dece0e8aa492a6ec9e4ad2fe366b511558cdc73fd3abc82ba7348e875/certifi-2021.5.30-py2.py3-none-any.whl (145kB)\n",
      "Collecting idna<3,>=2.5 (from requests<3.0.0dev,>=2.18.0->google-api-core<2.0.0dev,>=1.0.0->google-cloud-bigquery==1.6.1)\n",
      "  Downloading https://files.pythonhosted.org/packages/a2/38/928ddce2273eaa564f6f50de919327bf3a00f091b5baba8dfa9460f3a8a8/idna-2.10-py2.py3-none-any.whl (58kB)\n",
      "Collecting urllib3<1.27,>=1.21.1 (from requests<3.0.0dev,>=2.18.0->google-api-core<2.0.0dev,>=1.0.0->google-cloud-bigquery==1.6.1)\n",
      "  Downloading https://files.pythonhosted.org/packages/0c/cd/1e2ec680ec7b09846dc6e605f5a7709dfb9d7128e51a026e7154e18a234e/urllib3-1.26.5-py2.py3-none-any.whl (138kB)\n",
      "Collecting pycparser (from cffi>=1.0.0->google-crc32c<2.0dev,>=1.0; python_version >= \"3.5\"->google-resumable-media>=0.2.1->google-cloud-bigquery==1.6.1)\n",
      "  Downloading https://files.pythonhosted.org/packages/ae/e7/d9c3a176ca4b02024debf82342dab36efadfc5776f9c8db077e8f6e71821/pycparser-2.20-py2.py3-none-any.whl (112kB)\n",
      "Collecting pyasn1<0.5.0,>=0.4.6 (from pyasn1-modules>=0.2.1->google-auth<2.0dev,>=1.25.0->google-api-core<2.0.0dev,>=1.0.0->google-cloud-bigquery==1.6.1)\n",
      "  Downloading https://files.pythonhosted.org/packages/62/1e/a94a8d635fa3ce4cfc7f506003548d0a2447ae76fd5ca53932970fe3053f/pyasn1-0.4.8-py2.py3-none-any.whl (77kB)\n",
      "Installing collected packages: six, pycparser, cffi, google-crc32c, google-resumable-media, cachetools, pyasn1, pyasn1-modules, setuptools, rsa, google-auth, pyparsing, packaging, chardet, certifi, idna, urllib3, requests, protobuf, googleapis-common-protos, pytz, google-api-core, google-cloud-core, google-cloud-bigquery\n",
      "Successfully installed cachetools-4.2.2 certifi-2021.5.30 cffi-1.14.5 chardet-4.0.0 google-api-core-1.28.0 google-auth-1.30.1 google-cloud-bigquery-1.6.1 google-cloud-core-0.29.1 google-crc32c-1.1.2 google-resumable-media-1.3.0 googleapis-common-protos-1.53.0 idna-2.10 packaging-20.9 protobuf-3.17.1 pyasn1-0.4.8 pyasn1-modules-0.2.8 pycparser-2.20 pyparsing-2.4.7 pytz-2021.1 requests-2.25.1 rsa-4.7.2 setuptools-57.0.0 six-1.16.0 urllib3-1.26.5\n"
     ]
    }
   ],
   "source": [
    "%%bash\n",
    "sudo pip3 freeze | grep google-cloud-bigquery==1.6.1 || \\\n",
    "sudo pip3 install google-cloud-bigquery==1.6.1"
   ]
  },
  {
   "cell_type": "code",
   "execution_count": 2,
   "metadata": {},
   "outputs": [],
   "source": [
    "from google.cloud import bigquery"
   ]
  },
  {
   "cell_type": "markdown",
   "metadata": {
    "colab_type": "text",
    "id": "L0-vOB4y2BJM"
   },
   "source": [
    "## The source dataset\n",
    "\n",
    "Our dataset is hosted in [BigQuery](https://cloud.google.com/bigquery/). The CDC's Natality data has details on US births from 1969 to 2008 and is a publically available dataset, meaning anyone with a GCP account has access. Click [here](https://console.cloud.google.com/bigquery?project=bigquery-public-data&p=publicdata&d=samples&t=natality&page=table) to access the dataset.\n",
    "\n",
    "The natality dataset is relatively large at almost 138 million rows and 31 columns, but simple to understand. `weight_pounds` is the target, the continuous value we’ll train a model to predict."
   ]
  },
  {
   "cell_type": "markdown",
   "metadata": {
    "deletable": true,
    "editable": true
   },
   "source": [
    "<h2> Explore data </h2>\n",
    "\n",
    "The data is natality data (record of births in the US). The goal is to predict the baby's weight given a number of factors about the pregnancy and the baby's mother.  Later, we will want to split the data into training and eval datasets. The hash of the year-month will be used for that -- this way, twins born on the same day won't end up in different cuts of the data. We'll first create a SQL query using the natality data after the year 2000."
   ]
  },
  {
   "cell_type": "code",
   "execution_count": 3,
   "metadata": {
    "deletable": true,
    "editable": true
   },
   "outputs": [],
   "source": [
    "query = \"\"\"\n",
    "SELECT\n",
    "    weight_pounds,\n",
    "    is_male,\n",
    "    mother_age,\n",
    "    plurality,\n",
    "    gestation_weeks,\n",
    "    FARM_FINGERPRINT(\n",
    "        CONCAT(\n",
    "            CAST(YEAR AS STRING),\n",
    "            CAST(month AS STRING)\n",
    "        )\n",
    "    ) AS hashmonth\n",
    "FROM\n",
    "    publicdata.samples.natality\n",
    "WHERE\n",
    "    year > 2000\n",
    "\"\"\""
   ]
  },
  {
   "cell_type": "markdown",
   "metadata": {},
   "source": [
    "Let's create a BigQuery client that we can use throughout the notebook."
   ]
  },
  {
   "cell_type": "code",
   "execution_count": 4,
   "metadata": {},
   "outputs": [],
   "source": [
    "bq = bigquery.Client()"
   ]
  },
  {
   "cell_type": "markdown",
   "metadata": {},
   "source": [
    "Let's now examine the result of a BiqQuery call in a Pandas DataFrame using our newly created client."
   ]
  },
  {
   "cell_type": "code",
   "execution_count": 5,
   "metadata": {
    "collapsed": false,
    "deletable": true,
    "editable": true,
    "jupyter": {
     "outputs_hidden": false
    }
   },
   "outputs": [
    {
     "data": {
      "text/html": [
       "<div>\n",
       "<style scoped>\n",
       "    .dataframe tbody tr th:only-of-type {\n",
       "        vertical-align: middle;\n",
       "    }\n",
       "\n",
       "    .dataframe tbody tr th {\n",
       "        vertical-align: top;\n",
       "    }\n",
       "\n",
       "    .dataframe thead th {\n",
       "        text-align: right;\n",
       "    }\n",
       "</style>\n",
       "<table border=\"1\" class=\"dataframe\">\n",
       "  <thead>\n",
       "    <tr style=\"text-align: right;\">\n",
       "      <th></th>\n",
       "      <th>weight_pounds</th>\n",
       "      <th>is_male</th>\n",
       "      <th>mother_age</th>\n",
       "      <th>plurality</th>\n",
       "      <th>gestation_weeks</th>\n",
       "      <th>hashmonth</th>\n",
       "    </tr>\n",
       "  </thead>\n",
       "  <tbody>\n",
       "    <tr>\n",
       "      <th>0</th>\n",
       "      <td>6.686620</td>\n",
       "      <td>True</td>\n",
       "      <td>18</td>\n",
       "      <td>1</td>\n",
       "      <td>43</td>\n",
       "      <td>8904940584331855459</td>\n",
       "    </tr>\n",
       "    <tr>\n",
       "      <th>1</th>\n",
       "      <td>9.360828</td>\n",
       "      <td>True</td>\n",
       "      <td>32</td>\n",
       "      <td>1</td>\n",
       "      <td>41</td>\n",
       "      <td>1088037545023002395</td>\n",
       "    </tr>\n",
       "    <tr>\n",
       "      <th>2</th>\n",
       "      <td>8.437091</td>\n",
       "      <td>False</td>\n",
       "      <td>30</td>\n",
       "      <td>1</td>\n",
       "      <td>39</td>\n",
       "      <td>5896567601480310696</td>\n",
       "    </tr>\n",
       "    <tr>\n",
       "      <th>3</th>\n",
       "      <td>6.124442</td>\n",
       "      <td>False</td>\n",
       "      <td>24</td>\n",
       "      <td>1</td>\n",
       "      <td>40</td>\n",
       "      <td>-6244544205302024223</td>\n",
       "    </tr>\n",
       "    <tr>\n",
       "      <th>4</th>\n",
       "      <td>7.125340</td>\n",
       "      <td>False</td>\n",
       "      <td>26</td>\n",
       "      <td>1</td>\n",
       "      <td>41</td>\n",
       "      <td>-8029892925374153452</td>\n",
       "    </tr>\n",
       "  </tbody>\n",
       "</table>\n",
       "</div>"
      ],
      "text/plain": [
       "   weight_pounds  is_male  mother_age  plurality  gestation_weeks  \\\n",
       "0       6.686620     True          18          1               43   \n",
       "1       9.360828     True          32          1               41   \n",
       "2       8.437091    False          30          1               39   \n",
       "3       6.124442    False          24          1               40   \n",
       "4       7.125340    False          26          1               41   \n",
       "\n",
       "             hashmonth  \n",
       "0  8904940584331855459  \n",
       "1  1088037545023002395  \n",
       "2  5896567601480310696  \n",
       "3 -6244544205302024223  \n",
       "4 -8029892925374153452  "
      ]
     },
     "execution_count": 5,
     "metadata": {},
     "output_type": "execute_result"
    }
   ],
   "source": [
    "# Call BigQuery and examine in dataframe\n",
    "df = bigquery.Client().query(query + \" LIMIT 100\").to_dataframe()\n",
    "df.head()"
   ]
  },
  {
   "cell_type": "markdown",
   "metadata": {},
   "source": [
    "First, let's get the set of all valid column names in the natality dataset. We can do this by accessing the `INFORMATION_SCHEMA` for the table from the dataset."
   ]
  },
  {
   "cell_type": "code",
   "execution_count": 6,
   "metadata": {},
   "outputs": [],
   "source": [
    "# Query to get all column names within table schema\n",
    "sql = \"\"\"\n",
    "SELECT\n",
    "    column_name\n",
    "FROM\n",
    "    publicdata.samples.INFORMATION_SCHEMA.COLUMNS\n",
    "WHERE\n",
    "    table_name = \"natality\"\n",
    "\"\"\"\n",
    "\n",
    "# Send query through BigQuery client and store output to a dataframe\n",
    "valid_columns_df = bq.query(sql).to_dataframe()\n",
    "\n",
    "# Convert column names in dataframe to a set\n",
    "valid_columns_set = valid_columns_df[\"column_name\"].tolist()"
   ]
  },
  {
   "cell_type": "markdown",
   "metadata": {},
   "source": [
    "We can print our valid columns set to see all of the possible columns we have available in the dataset. Of course, you could also find this information by going to the `Schema` tab when selecting the table in the [BigQuery UI](https://console.cloud.google.com/bigquery?project=bigquery-public-data&p=publicdata&d=samples&t=natality&page=table)."
   ]
  },
  {
   "cell_type": "code",
   "execution_count": 7,
   "metadata": {},
   "outputs": [
    {
     "name": "stdout",
     "output_type": "stream",
     "text": [
      "['source_year', 'year', 'month', 'day', 'wday', 'state', 'is_male', 'child_race', 'weight_pounds', 'plurality', 'apgar_1min', 'apgar_5min', 'mother_residence_state', 'mother_race', 'mother_age', 'gestation_weeks', 'lmp', 'mother_married', 'mother_birth_state', 'cigarette_use', 'cigarettes_per_day', 'alcohol_use', 'drinks_per_week', 'weight_gain_pounds', 'born_alive_alive', 'born_alive_dead', 'born_dead', 'ever_born', 'father_race', 'father_age', 'record_weight']\n"
     ]
    }
   ],
   "source": [
    "print(valid_columns_set)"
   ]
  },
  {
   "cell_type": "markdown",
   "metadata": {},
   "source": [
    "## Lab Task #1: Use BigQuery to explore natality dataset.\n",
    "Using the above code as an example, write a query to find the unique values for each of the columns and the count of those values for babies born after the year 2000.\n",
    "For example, we want to get these values:\n",
    "<pre>\n",
    "is_male\tnum_babies\tavg_wt\n",
    "False\t16245054\t7.104715\n",
    " True\t17026860\t7.349797\n",
    "</pre>\n",
    "This is important to ensure that we have enough examples of each data value, and to verify our hunch that the parameter has predictive value.\n",
    "\n",
    "Hint (highlight to see): <p style='color:white'>Use COUNT(), AVG() and GROUP BY. For example:\n",
    "<pre style='color:white'>\n",
    "SELECT\n",
    "  is_male,\n",
    "  COUNT(1) AS num_babies,\n",
    "  AVG(weight_pounds) AS avg_wt\n",
    "FROM\n",
    "  publicdata.samples.natality\n",
    "WHERE\n",
    "  year > 2000\n",
    "GROUP BY\n",
    "  is_male\n",
    "</pre>\n",
    "</p>"
   ]
  },
  {
   "cell_type": "code",
   "execution_count": 8,
   "metadata": {
    "deletable": true,
    "editable": true
   },
   "outputs": [],
   "source": [
    "# TODO: Create function that gets distinct value statistics from BigQuery\n",
    "def get_distinct_values(valid_columns_set, column_name):\n",
    "    \"\"\"Gets distinct value statistics of BigQuery data column.\n",
    "\n",
    "    Args:\n",
    "        valid_columns_set: set, the set of all possible valid column names in\n",
    "            table.\n",
    "        column_name: str, name of column in BigQuery.\n",
    "    Returns:\n",
    "        Dataframe of unique values, their counts, and averages.\n",
    "    \"\"\"\n",
    "    assert column_name in valid_columns_set, (\n",
    "        \"{column_name} is not a valid column_name\".format(\n",
    "            column_name=column_name))\n",
    "\n",
    "    sql = f\"\"\"\n",
    "SELECT\n",
    "  {column_name},\n",
    "  COUNT(1) AS num_babies,\n",
    "  AVG(weight_pounds) AS avg_wt\n",
    "FROM\n",
    "  publicdata.samples.natality\n",
    "WHERE\n",
    "  year > 2000\n",
    "GROUP BY\n",
    "  {column_name}\n",
    "    \"\"\"\n",
    "\n",
    "    df = bq.query(sql).to_dataframe()\n",
    "    \n",
    "    return df"
   ]
  },
  {
   "cell_type": "code",
   "execution_count": 11,
   "metadata": {},
   "outputs": [
    {
     "data": {
      "text/html": [
       "<div>\n",
       "<style scoped>\n",
       "    .dataframe tbody tr th:only-of-type {\n",
       "        vertical-align: middle;\n",
       "    }\n",
       "\n",
       "    .dataframe tbody tr th {\n",
       "        vertical-align: top;\n",
       "    }\n",
       "\n",
       "    .dataframe thead th {\n",
       "        text-align: right;\n",
       "    }\n",
       "</style>\n",
       "<table border=\"1\" class=\"dataframe\">\n",
       "  <thead>\n",
       "    <tr style=\"text-align: right;\">\n",
       "      <th></th>\n",
       "      <th>gestation_weeks</th>\n",
       "      <th>num_babies</th>\n",
       "      <th>avg_wt</th>\n",
       "    </tr>\n",
       "  </thead>\n",
       "  <tbody>\n",
       "    <tr>\n",
       "      <th>0</th>\n",
       "      <td>33.0</td>\n",
       "      <td>310675</td>\n",
       "      <td>5.285956</td>\n",
       "    </tr>\n",
       "    <tr>\n",
       "      <th>1</th>\n",
       "      <td>41.0</td>\n",
       "      <td>2993797</td>\n",
       "      <td>7.786118</td>\n",
       "    </tr>\n",
       "    <tr>\n",
       "      <th>2</th>\n",
       "      <td>47.0</td>\n",
       "      <td>43895</td>\n",
       "      <td>7.496152</td>\n",
       "    </tr>\n",
       "    <tr>\n",
       "      <th>3</th>\n",
       "      <td>32.0</td>\n",
       "      <td>208791</td>\n",
       "      <td>4.907616</td>\n",
       "    </tr>\n",
       "    <tr>\n",
       "      <th>4</th>\n",
       "      <td>36.0</td>\n",
       "      <td>1524448</td>\n",
       "      <td>6.437536</td>\n",
       "    </tr>\n",
       "    <tr>\n",
       "      <th>5</th>\n",
       "      <td>35.0</td>\n",
       "      <td>866817</td>\n",
       "      <td>6.079205</td>\n",
       "    </tr>\n",
       "    <tr>\n",
       "      <th>6</th>\n",
       "      <td>44.0</td>\n",
       "      <td>265652</td>\n",
       "      <td>7.590076</td>\n",
       "    </tr>\n",
       "    <tr>\n",
       "      <th>7</th>\n",
       "      <td>23.0</td>\n",
       "      <td>24340</td>\n",
       "      <td>1.387928</td>\n",
       "    </tr>\n",
       "    <tr>\n",
       "      <th>8</th>\n",
       "      <td>21.0</td>\n",
       "      <td>14682</td>\n",
       "      <td>1.111511</td>\n",
       "    </tr>\n",
       "    <tr>\n",
       "      <th>9</th>\n",
       "      <td>20.0</td>\n",
       "      <td>10847</td>\n",
       "      <td>1.001574</td>\n",
       "    </tr>\n",
       "    <tr>\n",
       "      <th>10</th>\n",
       "      <td>39.0</td>\n",
       "      <td>8348664</td>\n",
       "      <td>7.511718</td>\n",
       "    </tr>\n",
       "    <tr>\n",
       "      <th>11</th>\n",
       "      <td>NaN</td>\n",
       "      <td>236089</td>\n",
       "      <td>7.134313</td>\n",
       "    </tr>\n",
       "    <tr>\n",
       "      <th>12</th>\n",
       "      <td>43.0</td>\n",
       "      <td>514226</td>\n",
       "      <td>7.573109</td>\n",
       "    </tr>\n",
       "    <tr>\n",
       "      <th>13</th>\n",
       "      <td>38.0</td>\n",
       "      <td>6103867</td>\n",
       "      <td>7.248065</td>\n",
       "    </tr>\n",
       "    <tr>\n",
       "      <th>14</th>\n",
       "      <td>45.0</td>\n",
       "      <td>136243</td>\n",
       "      <td>7.584678</td>\n",
       "    </tr>\n",
       "    <tr>\n",
       "      <th>15</th>\n",
       "      <td>29.0</td>\n",
       "      <td>82356</td>\n",
       "      <td>3.777457</td>\n",
       "    </tr>\n",
       "    <tr>\n",
       "      <th>16</th>\n",
       "      <td>17.0</td>\n",
       "      <td>2336</td>\n",
       "      <td>0.978025</td>\n",
       "    </tr>\n",
       "    <tr>\n",
       "      <th>17</th>\n",
       "      <td>46.0</td>\n",
       "      <td>71537</td>\n",
       "      <td>7.526924</td>\n",
       "    </tr>\n",
       "    <tr>\n",
       "      <th>18</th>\n",
       "      <td>30.0</td>\n",
       "      <td>113490</td>\n",
       "      <td>4.205129</td>\n",
       "    </tr>\n",
       "    <tr>\n",
       "      <th>19</th>\n",
       "      <td>25.0</td>\n",
       "      <td>38144</td>\n",
       "      <td>2.041015</td>\n",
       "    </tr>\n",
       "    <tr>\n",
       "      <th>20</th>\n",
       "      <td>18.0</td>\n",
       "      <td>3905</td>\n",
       "      <td>0.884395</td>\n",
       "    </tr>\n",
       "    <tr>\n",
       "      <th>21</th>\n",
       "      <td>22.0</td>\n",
       "      <td>18855</td>\n",
       "      <td>1.235467</td>\n",
       "    </tr>\n",
       "    <tr>\n",
       "      <th>22</th>\n",
       "      <td>19.0</td>\n",
       "      <td>6278</td>\n",
       "      <td>0.810890</td>\n",
       "    </tr>\n",
       "    <tr>\n",
       "      <th>23</th>\n",
       "      <td>37.0</td>\n",
       "      <td>2998104</td>\n",
       "      <td>6.846934</td>\n",
       "    </tr>\n",
       "    <tr>\n",
       "      <th>24</th>\n",
       "      <td>34.0</td>\n",
       "      <td>533941</td>\n",
       "      <td>5.694896</td>\n",
       "    </tr>\n",
       "    <tr>\n",
       "      <th>25</th>\n",
       "      <td>42.0</td>\n",
       "      <td>987732</td>\n",
       "      <td>7.652442</td>\n",
       "    </tr>\n",
       "    <tr>\n",
       "      <th>26</th>\n",
       "      <td>31.0</td>\n",
       "      <td>147725</td>\n",
       "      <td>4.513253</td>\n",
       "    </tr>\n",
       "    <tr>\n",
       "      <th>27</th>\n",
       "      <td>24.0</td>\n",
       "      <td>33449</td>\n",
       "      <td>1.796672</td>\n",
       "    </tr>\n",
       "    <tr>\n",
       "      <th>28</th>\n",
       "      <td>27.0</td>\n",
       "      <td>50536</td>\n",
       "      <td>2.555233</td>\n",
       "    </tr>\n",
       "    <tr>\n",
       "      <th>29</th>\n",
       "      <td>40.0</td>\n",
       "      <td>6467795</td>\n",
       "      <td>7.686975</td>\n",
       "    </tr>\n",
       "    <tr>\n",
       "      <th>30</th>\n",
       "      <td>28.0</td>\n",
       "      <td>67953</td>\n",
       "      <td>3.377813</td>\n",
       "    </tr>\n",
       "    <tr>\n",
       "      <th>31</th>\n",
       "      <td>26.0</td>\n",
       "      <td>44745</td>\n",
       "      <td>2.297168</td>\n",
       "    </tr>\n",
       "  </tbody>\n",
       "</table>\n",
       "</div>"
      ],
      "text/plain": [
       "    gestation_weeks  num_babies    avg_wt\n",
       "0              33.0      310675  5.285956\n",
       "1              41.0     2993797  7.786118\n",
       "2              47.0       43895  7.496152\n",
       "3              32.0      208791  4.907616\n",
       "4              36.0     1524448  6.437536\n",
       "5              35.0      866817  6.079205\n",
       "6              44.0      265652  7.590076\n",
       "7              23.0       24340  1.387928\n",
       "8              21.0       14682  1.111511\n",
       "9              20.0       10847  1.001574\n",
       "10             39.0     8348664  7.511718\n",
       "11              NaN      236089  7.134313\n",
       "12             43.0      514226  7.573109\n",
       "13             38.0     6103867  7.248065\n",
       "14             45.0      136243  7.584678\n",
       "15             29.0       82356  3.777457\n",
       "16             17.0        2336  0.978025\n",
       "17             46.0       71537  7.526924\n",
       "18             30.0      113490  4.205129\n",
       "19             25.0       38144  2.041015\n",
       "20             18.0        3905  0.884395\n",
       "21             22.0       18855  1.235467\n",
       "22             19.0        6278  0.810890\n",
       "23             37.0     2998104  6.846934\n",
       "24             34.0      533941  5.694896\n",
       "25             42.0      987732  7.652442\n",
       "26             31.0      147725  4.513253\n",
       "27             24.0       33449  1.796672\n",
       "28             27.0       50536  2.555233\n",
       "29             40.0     6467795  7.686975\n",
       "30             28.0       67953  3.377813\n",
       "31             26.0       44745  2.297168"
      ]
     },
     "execution_count": 11,
     "metadata": {},
     "output_type": "execute_result"
    }
   ],
   "source": [
    "get_distinct_values(valid_columns_set, 'gestation_weeks')"
   ]
  },
  {
   "cell_type": "markdown",
   "metadata": {},
   "source": [
    "## Lab Task #2: Use Cloud AI Platform Notebook to plot explorations.\n",
    "\n",
    "Which factors seem to play a part in the baby's weight?\n",
    "\n",
    "<b>Bonus:</b> Draw graphs to illustrate your conclusions\n",
    "\n",
    "Hint (highlight to see): \n",
    "<p style='color:white'># TODO: Reusing the get_distinct_values function you just implemented, create function that plots distinct value statistics from BigQuery\n",
    "\n",
    "Hint (highlight to see): <p style='color:white'> The simplest way to plot is to use Pandas' built-in plotting capability\n",
    "<pre style='color:white'>\n",
    "df = get_distinct_values(valid_columns_set, column_name)\n",
    "df = df.sort_values(column_name)\n",
    "df.plot(x=column_name, y=\"num_babies\", kind=\"bar\", figsize=(12, 5))\n",
    "df.plot(x=column_name, y=\"avg_wt\", kind=\"bar\", figsize=(12, 5))\n",
    "</pre>"
   ]
  },
  {
   "cell_type": "code",
   "execution_count": 12,
   "metadata": {},
   "outputs": [],
   "source": [
    "# TODO: Create function that plots distinct value statistics from BigQuery\n",
    "def plot_distinct_values(valid_columns_set, column_name, logy=False):\n",
    "    \"\"\"Plots distinct value statistics of BigQuery data column.\n",
    "\n",
    "    Args:\n",
    "        valid_columns_set: set, the set of all possible valid column names in\n",
    "            table.\n",
    "        column_name: str, name of column in BigQuery.\n",
    "        logy: bool, if plotting counts in log scale or not.\n",
    "    \"\"\"\n",
    "    df = get_distinct_values(valid_columns_set, column_name)\n",
    "    df = df.sort_values(column_name)\n",
    "    df.plot(x=column_name, y=\"num_babies\", kind=\"bar\", figsize=(12, 5))\n",
    "    df.plot(x=column_name, y=\"avg_wt\", kind=\"bar\", figsize=(12, 5))"
   ]
  },
  {
   "cell_type": "markdown",
   "metadata": {},
   "source": [
    "Make a bar plot to see `is_male` with `avg_wt` linearly scaled and `num_babies` logarithmically scaled."
   ]
  },
  {
   "cell_type": "code",
   "execution_count": 13,
   "metadata": {
    "collapsed": false,
    "deletable": true,
    "editable": true,
    "jupyter": {
     "outputs_hidden": false
    }
   },
   "outputs": [
    {
     "data": {
      "image/png": "[encoded data removed]",
      "text/plain": [
       "<Figure size 864x360 with 1 Axes>"
      ]
     },
     "metadata": {
      "needs_background": "light"
     },
     "output_type": "display_data"
    },
    {
     "data": {
      "image/png": "[encoded data removed]",
      "text/plain": [
       "<Figure size 864x360 with 1 Axes>"
      ]
     },
     "metadata": {
      "needs_background": "light"
     },
     "output_type": "display_data"
    }
   ],
   "source": [
    "# TODO: Plot is_male\n",
    "plot_distinct_values(valid_columns_set, 'is_male')"
   ]
  },
  {
   "cell_type": "markdown",
   "metadata": {},
   "source": [
    "### 우리가 이미 알고 있듯이 출생성별 남자 비율이 약간 높고, 남자 평균 몸무게가 크다는 것을 볼 수 있다."
   ]
  },
  {
   "cell_type": "markdown",
   "metadata": {},
   "source": [
    "Make a bar plot to see `mother_age` with `avg_wt` linearly scaled and `num_babies` linearly scaled."
   ]
  },
  {
   "cell_type": "code",
   "execution_count": 14,
   "metadata": {
    "collapsed": false,
    "deletable": true,
    "editable": true,
    "jupyter": {
     "outputs_hidden": false
    }
   },
   "outputs": [
    {
     "data": {
      "image/png": "[encoded data removed]",
      "text/plain": [
       "<Figure size 864x360 with 1 Axes>"
      ]
     },
     "metadata": {
      "needs_background": "light"
     },
     "output_type": "display_data"
    },
    {
     "data": {
      "image/png": "[encoded data removed]",
      "text/plain": [
       "<Figure size 864x360 with 1 Axes>"
      ]
     },
     "metadata": {
      "needs_background": "light"
     },
     "output_type": "display_data"
    }
   ],
   "source": [
    "# TODO: Plot mother_age\n",
    "plot_distinct_values(valid_columns_set, 'mother_age')"
   ]
  },
  {
   "cell_type": "markdown",
   "metadata": {},
   "source": [
    "### 10~16세인 산모의 데이터가 별로 없고 일반적이지 않으므로 제거하는 것이 타당하다"
   ]
  },
  {
   "cell_type": "markdown",
   "metadata": {},
   "source": [
    "Make a bar plot to see `plurality` with `avg_wt` linearly scaled and `num_babies` logarithmically scaled."
   ]
  },
  {
   "cell_type": "code",
   "execution_count": 15,
   "metadata": {
    "collapsed": false,
    "deletable": true,
    "editable": true,
    "jupyter": {
     "outputs_hidden": false
    }
   },
   "outputs": [
    {
     "data": {
      "image/png": "[encoded data removed]",
      "text/plain": [
       "<Figure size 864x360 with 1 Axes>"
      ]
     },
     "metadata": {
      "needs_background": "light"
     },
     "output_type": "display_data"
    },
    {
     "data": {
      "image/png": "[encoded data removed]",
      "text/plain": [
       "<Figure size 864x360 with 1 Axes>"
      ]
     },
     "metadata": {
      "needs_background": "light"
     },
     "output_type": "display_data"
    }
   ],
   "source": [
    "# TODO: Plot plurality\n",
    "plot_distinct_values(valid_columns_set, 'plurality')"
   ]
  },
  {
   "cell_type": "markdown",
   "metadata": {},
   "source": [
    "### 쌍둥이 태아가 많을 수록 평균 태아 몸무게가 작음을 알 수 있다."
   ]
  },
  {
   "cell_type": "markdown",
   "metadata": {},
   "source": [
    "Make a bar plot to see `gestation_weeks` with `avg_wt` linearly scaled and `num_babies` logarithmically scaled."
   ]
  },
  {
   "cell_type": "code",
   "execution_count": 16,
   "metadata": {
    "collapsed": false,
    "deletable": true,
    "editable": true,
    "jupyter": {
     "outputs_hidden": false
    }
   },
   "outputs": [
    {
     "data": {
      "image/png": "[encoded data removed]",
      "text/plain": [
       "<Figure size 864x360 with 1 Axes>"
      ]
     },
     "metadata": {
      "needs_background": "light"
     },
     "output_type": "display_data"
    },
    {
     "data": {
      "image/png": "[encoded data removed]",
      "text/plain": [
       "<Figure size 864x360 with 1 Axes>"
      ]
     },
     "metadata": {
      "needs_background": "light"
     },
     "output_type": "display_data"
    }
   ],
   "source": [
    "# TODO: Plot gestation_weeks\n",
    "plot_distinct_values(valid_columns_set, 'gestation_weeks')"
   ]
  },
  {
   "cell_type": "markdown",
   "metadata": {
    "deletable": true,
    "editable": true
   },
   "source": [
    "All these factors seem to play a part in the baby's weight. Male babies are heavier on average than female babies. Teenaged and older moms tend to have lower-weight babies. Twins, triplets, etc. are lower weight than single births. Preemies weigh in lower as do babies born to single moms. In addition, it is important to check whether you have enough data (number of babies) for each input value. Otherwise, the model prediction against input values that doesn't have enough data may not be reliable.\n",
    "<p>\n",
    "In the next notebooks, we will develop a machine learning model to combine all of these factors to come up with a prediction of a baby's weight."
   ]
  },
  {
   "cell_type": "markdown",
   "metadata": {},
   "source": [
    "## Lab Summary: \n",
    "In this lab, we used BigQuery to explore the data and used Cloud AI Platform Notebooks to plot data explorations."
   ]
  },
  {
   "cell_type": "markdown",
   "metadata": {
    "deletable": true,
    "editable": true
   },
   "source": [
    "Copyright 2019 Google Inc. Licensed under the Apache License, Version 2.0 (the \"License\"); you may not use this file except in compliance with the License. You may obtain a copy of the License at http://www.apache.org/licenses/LICENSE-2.0 Unless required by applicable law or agreed to in writing, software distributed under the License is distributed on an \"AS IS\" BASIS, WITHOUT WARRANTIES OR CONDITIONS OF ANY KIND, either express or implied. See the License for the specific language governing permissions and limitations under the License"
   ]
  }
 ],
 "metadata": {
  "environment": {
   "name": "tf2-gpu.2-1.m69",
   "type": "gcloud",
   "uri": "gcr.io/deeplearning-platform-release/tf2-gpu.2-1:m69"
  },
  "kernelspec": {
   "display_name": "Python 3",
   "language": "python",
   "name": "python3"
  },
  "language_info": {
   "codemirror_mode": {
    "name": "ipython",
    "version": 3
   },
   "file_extension": ".py",
   "mimetype": "text/x-python",
   "name": "python",
   "nbconvert_exporter": "python",
   "pygments_lexer": "ipython3",
   "version": "3.7.10"
  }
 },
 "nbformat": 4,
 "nbformat_minor": 4
}
